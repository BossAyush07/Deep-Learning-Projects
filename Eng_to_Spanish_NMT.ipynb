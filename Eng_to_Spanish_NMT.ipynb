{
  "nbformat": 4,
  "nbformat_minor": 0,
  "metadata": {
    "colab": {
      "name": "Eng_to_Spanish_NMT.ipynb",
      "provenance": [],
      "collapsed_sections": [],
      "include_colab_link": true
    },
    "kernelspec": {
      "name": "python3",
      "display_name": "Python 3"
    },
    "accelerator": "GPU"
  },
  "cells": [
    {
      "cell_type": "markdown",
      "metadata": {
        "id": "view-in-github",
        "colab_type": "text"
      },
      "source": [
        "<a href=\"https://colab.research.google.com/github/BossAyush07/Deep-Learning-Projects/blob/master/Eng_to_Spanish_NMT.ipynb\" target=\"_parent\"><img src=\"https://colab.research.google.com/assets/colab-badge.svg\" alt=\"Open In Colab\"/></a>"
      ]
    },
    {
      "cell_type": "markdown",
      "metadata": {
        "id": "pPVbMe6CpSlF"
      },
      "source": [
        "### Importing Important Libraries"
      ]
    },
    {
      "cell_type": "code",
      "metadata": {
        "id": "qt9mkJyie6fd"
      },
      "source": [
        "from __future__ import absolute_import, division, print_function, unicode_literals\n",
        "\n",
        "try:\n",
        "  # %tensorflow_version only exists in Colab.\n",
        "  %tensorflow_version 2.x\n",
        "except Exception:\n",
        "  pass\n",
        "import tensorflow as tf\n",
        "\n",
        "import matplotlib.pyplot as plt\n",
        "import matplotlib.ticker as ticker\n",
        "from sklearn.model_selection import train_test_split\n",
        "import pandas as pd\n",
        "import unicodedata\n",
        "import re\n",
        "import numpy as np\n",
        "import os\n",
        "import io\n",
        "import time\n",
        "from google.colab import files\n",
        "from string import digits\n",
        "from nltk.translate.bleu_score import sentence_bleu"
      ],
      "execution_count": 3,
      "outputs": []
    },
    {
      "cell_type": "code",
      "metadata": {
        "id": "dIyGvMaTgEkb"
      },
      "source": [
        "data_path = \"spa.txt\""
      ],
      "execution_count": 6,
      "outputs": []
    },
    {
      "cell_type": "markdown",
      "metadata": {
        "id": "Qlb7RMJzpcY4"
      },
      "source": [
        "## Understanding the data"
      ]
    },
    {
      "cell_type": "code",
      "metadata": {
        "colab": {
          "base_uri": "https://localhost:8080/"
        },
        "id": "vAQELIMEYGPC",
        "outputId": "d18d3c00-25db-4464-b6ee-19c2d791a375"
      },
      "source": [
        "from google.colab import drive\n",
        "drive.mount('/content/drive')"
      ],
      "execution_count": 7,
      "outputs": [
        {
          "output_type": "stream",
          "text": [
            "Drive already mounted at /content/drive; to attempt to forcibly remount, call drive.mount(\"/content/drive\", force_remount=True).\n"
          ],
          "name": "stdout"
        }
      ]
    },
    {
      "cell_type": "code",
      "metadata": {
        "colab": {
          "base_uri": "https://localhost:8080/",
          "height": 195
        },
        "id": "XMlK1iahgJWu",
        "outputId": "91d41e7a-349d-4415-fadf-2a08b7690ac2"
      },
      "source": [
        "#Read the data\n",
        "lines_raw= pd.read_table(data_path,names=['source', 'target', 'comments'])\n",
        "lines_raw.sample(5)"
      ],
      "execution_count": 8,
      "outputs": [
        {
          "output_type": "execute_result",
          "data": {
            "text/html": [
              "<div>\n",
              "<style scoped>\n",
              "    .dataframe tbody tr th:only-of-type {\n",
              "        vertical-align: middle;\n",
              "    }\n",
              "\n",
              "    .dataframe tbody tr th {\n",
              "        vertical-align: top;\n",
              "    }\n",
              "\n",
              "    .dataframe thead th {\n",
              "        text-align: right;\n",
              "    }\n",
              "</style>\n",
              "<table border=\"1\" class=\"dataframe\">\n",
              "  <thead>\n",
              "    <tr style=\"text-align: right;\">\n",
              "      <th></th>\n",
              "      <th>source</th>\n",
              "      <th>target</th>\n",
              "      <th>comments</th>\n",
              "    </tr>\n",
              "  </thead>\n",
              "  <tbody>\n",
              "    <tr>\n",
              "      <th>698</th>\n",
              "      <td>I was sad.</td>\n",
              "      <td>Estuve triste.</td>\n",
              "      <td>CC-BY 2.0 (France) Attribution: tatoeba.org #2...</td>\n",
              "    </tr>\n",
              "    <tr>\n",
              "      <th>11950</th>\n",
              "      <td>I need the money.</td>\n",
              "      <td>Necesito la plata.</td>\n",
              "      <td>CC-BY 2.0 (France) Attribution: tatoeba.org #1...</td>\n",
              "    </tr>\n",
              "    <tr>\n",
              "      <th>63824</th>\n",
              "      <td>The main valve is turned off.</td>\n",
              "      <td>La válvula principal está cerrada.</td>\n",
              "      <td>CC-BY 2.0 (France) Attribution: tatoeba.org #1...</td>\n",
              "    </tr>\n",
              "    <tr>\n",
              "      <th>37415</th>\n",
              "      <td>Tom may have been sick.</td>\n",
              "      <td>Puede que Tom haya estado enfermo.</td>\n",
              "      <td>CC-BY 2.0 (France) Attribution: tatoeba.org #7...</td>\n",
              "    </tr>\n",
              "    <tr>\n",
              "      <th>67603</th>\n",
              "      <td>Our summer is short, but warm.</td>\n",
              "      <td>Nuestro verano es corto, pero cálido.</td>\n",
              "      <td>CC-BY 2.0 (France) Attribution: tatoeba.org #1...</td>\n",
              "    </tr>\n",
              "  </tbody>\n",
              "</table>\n",
              "</div>"
            ],
            "text/plain": [
              "                               source  ...                                           comments\n",
              "698                        I was sad.  ...  CC-BY 2.0 (France) Attribution: tatoeba.org #2...\n",
              "11950               I need the money.  ...  CC-BY 2.0 (France) Attribution: tatoeba.org #1...\n",
              "63824   The main valve is turned off.  ...  CC-BY 2.0 (France) Attribution: tatoeba.org #1...\n",
              "37415         Tom may have been sick.  ...  CC-BY 2.0 (France) Attribution: tatoeba.org #7...\n",
              "67603  Our summer is short, but warm.  ...  CC-BY 2.0 (France) Attribution: tatoeba.org #1...\n",
              "\n",
              "[5 rows x 3 columns]"
            ]
          },
          "metadata": {
            "tags": []
          },
          "execution_count": 8
        }
      ]
    },
    {
      "cell_type": "code",
      "metadata": {
        "colab": {
          "base_uri": "https://localhost:8080/"
        },
        "id": "9gdkkpsKpAVy",
        "outputId": "8cde3a5b-c76e-43d7-9afe-35214d880f4e"
      },
      "source": [
        "len(lines_raw)"
      ],
      "execution_count": 71,
      "outputs": [
        {
          "output_type": "execute_result",
          "data": {
            "text/plain": [
              "71931"
            ]
          },
          "metadata": {
            "tags": []
          },
          "execution_count": 71
        }
      ]
    },
    {
      "cell_type": "markdown",
      "metadata": {
        "id": "PzBfKTw6wdtY"
      },
      "source": [
        "###Clean and Preprocess the text\n",
        "\n",
        "Convert to lower case\n",
        "\n",
        "Convert special characters\n",
        "\n",
        "Remove Digits\n",
        "\n",
        "Remove spaces\n",
        "\n",
        "Add start and end tags to each sentence"
      ]
    },
    {
      "cell_type": "code",
      "metadata": {
        "id": "yc4VWEYigSLv"
      },
      "source": [
        "def preprocess_sentence(sentence):\n",
        "    #sentence = unicode_to_ascii(sentence.lower().strip())\n",
        "    num_digits= str.maketrans('','', digits)\n",
        "    \n",
        "    sentence= sentence.lower()\n",
        "    sentence= re.sub(\" +\", \" \", sentence)\n",
        "    sentence= re.sub(\"'\", '', sentence)\n",
        "    sentence= sentence.translate(num_digits)\n",
        "    sentence= sentence.strip()\n",
        "    sentence= re.sub(r\"([?.!,¿])\", r\" \\1 \", sentence)\n",
        "    sentence = sentence.rstrip().strip()\n",
        "    sentence=  'start_ ' + sentence + ' _end'\n",
        "    \n",
        "    return sentence"
      ],
      "execution_count": 9,
      "outputs": []
    },
    {
      "cell_type": "code",
      "metadata": {
        "colab": {
          "base_uri": "https://localhost:8080/"
        },
        "id": "P897anw7gs89",
        "outputId": "abb23497-57e7-4634-c886-7a66c060ef22"
      },
      "source": [
        "en_sentence = u\"May I borrow this book?\"\n",
        "sp_sentence = u\"¿Puedo tomar prestado este libro?\"\n",
        "print(preprocess_sentence(en_sentence))\n",
        "print(preprocess_sentence(sp_sentence).encode('utf-8'))"
      ],
      "execution_count": 10,
      "outputs": [
        {
          "output_type": "stream",
          "text": [
            "start_ may i borrow this book ? _end\n",
            "b'start_ \\xc2\\xbf puedo tomar prestado este libro ? _end'\n"
          ],
          "name": "stdout"
        }
      ]
    },
    {
      "cell_type": "code",
      "metadata": {
        "id": "iL4UKHz3gxIU"
      },
      "source": [
        "# 1. Remove the accents\n",
        "# 2. Clean the sentences\n",
        "# 3. Return word pairs in the format: [ENGLISH, SPANISH]\n",
        "def create_dataset(path, num_examples):\n",
        "  \n",
        "  lines = io.open(path, encoding='UTF-8').read().strip().split('\\n')\n",
        "  #print(lines)\n",
        "  word_pairs = [[preprocess_sentence(w) for w in l.split('\\t')[:2]]  for l in lines[:num_examples]]\n",
        "  print(path)\n",
        "  return zip(*word_pairs)"
      ],
      "execution_count": 11,
      "outputs": []
    },
    {
      "cell_type": "code",
      "metadata": {
        "colab": {
          "base_uri": "https://localhost:8080/"
        },
        "id": "_FqkUZYpg1RO",
        "outputId": "556fb751-d425-4a68-9333-15aca663c2b0"
      },
      "source": [
        "sample_size=60000\n",
        "source, target = create_dataset(data_path, sample_size)\n",
        "print(source[-1])\n",
        "print(target[-1])\n",
        "type(target)"
      ],
      "execution_count": 12,
      "outputs": [
        {
          "output_type": "stream",
          "text": [
            "spa.txt\n",
            "start_ tom made himself a sandwich . _end\n",
            "start_ tom se hizo un sándwich . _end\n"
          ],
          "name": "stdout"
        },
        {
          "output_type": "execute_result",
          "data": {
            "text/plain": [
              "tuple"
            ]
          },
          "metadata": {
            "tags": []
          },
          "execution_count": 12
        }
      ]
    },
    {
      "cell_type": "code",
      "metadata": {
        "id": "q-EC7y4cg5Kb"
      },
      "source": [
        "def max_length(tensor):\n",
        "  return max(len(t) for t in tensor)"
      ],
      "execution_count": 13,
      "outputs": []
    },
    {
      "cell_type": "markdown",
      "metadata": {
        "id": "B_mZ3mVDi_mz"
      },
      "source": [
        "###Create the source and target toekns and post pad them\n",
        "\n",
        "\n",
        "\n",
        "\n",
        "\n"
      ]
    },
    {
      "cell_type": "code",
      "metadata": {
        "id": "nZ7dUJsuibnV"
      },
      "source": [
        "source_sentence_tokenizer= tf.keras.preprocessing.text.Tokenizer(filters='')\n",
        "source_sentence_tokenizer.fit_on_texts(source)\n",
        "source_tensor = source_sentence_tokenizer.texts_to_sequences(source)\n",
        "source_tensor= tf.keras.preprocessing.sequence.pad_sequences(source_tensor,padding='post' )"
      ],
      "execution_count": 14,
      "outputs": []
    },
    {
      "cell_type": "code",
      "metadata": {
        "colab": {
          "base_uri": "https://localhost:8080/"
        },
        "id": "dIWZ36WvjKXb",
        "outputId": "c1e48e02-a37b-479c-d5f5-eee53a3b9ca6"
      },
      "source": [
        "target_sentence_tokenizer= tf.keras.preprocessing.text.Tokenizer(filters='')\n",
        "target_sentence_tokenizer.fit_on_texts(target)\n",
        "target_tensor = target_sentence_tokenizer.texts_to_sequences(target)\n",
        "target_tensor= tf.keras.preprocessing.sequence.pad_sequences(target_tensor,padding='post' )\n",
        "print(len(target_tensor[0]))"
      ],
      "execution_count": 15,
      "outputs": [
        {
          "output_type": "stream",
          "text": [
            "20\n"
          ],
          "name": "stdout"
        }
      ]
    },
    {
      "cell_type": "markdown",
      "metadata": {
        "id": "vSIzw0U2jTwr"
      },
      "source": [
        "###Creating Train and Test dataset"
      ]
    },
    {
      "cell_type": "code",
      "metadata": {
        "id": "WmHGo4v6jOxG"
      },
      "source": [
        "source_train_tensor, source_test_tensor, target_train_tensor, target_test_tensor= train_test_split(source_tensor, target_tensor,test_size=0.2)"
      ],
      "execution_count": 16,
      "outputs": []
    },
    {
      "cell_type": "code",
      "metadata": {
        "colab": {
          "base_uri": "https://localhost:8080/"
        },
        "id": "9Cb6AaThjYR6",
        "outputId": "8465e2bf-7b2d-4074-d432-a02ff1ba8187"
      },
      "source": [
        "# Creating training and validation sets using an 80-20 split\n",
        "input_tensor_train, input_tensor_val, target_tensor_train, target_tensor_val = train_test_split(source_tensor, target_tensor, test_size=0.2)\n",
        "\n",
        "# Show length\n",
        "print(len(input_tensor_train), len(target_tensor_train), len(input_tensor_val), len(target_tensor_val))"
      ],
      "execution_count": 17,
      "outputs": [
        {
          "output_type": "stream",
          "text": [
            "48000 48000 12000 12000\n"
          ],
          "name": "stdout"
        }
      ]
    },
    {
      "cell_type": "code",
      "metadata": {
        "colab": {
          "base_uri": "https://localhost:8080/"
        },
        "id": "DNGAgnORjb8j",
        "outputId": "5769efb8-ff04-4665-f64f-b0471e6bcdca"
      },
      "source": [
        "type(input_tensor_train)"
      ],
      "execution_count": 18,
      "outputs": [
        {
          "output_type": "execute_result",
          "data": {
            "text/plain": [
              "numpy.ndarray"
            ]
          },
          "metadata": {
            "tags": []
          },
          "execution_count": 18
        }
      ]
    },
    {
      "cell_type": "code",
      "metadata": {
        "id": "PYaMC1QJjfGH"
      },
      "source": [
        "def convert(lang, tensor):\n",
        "  for t in tensor:\n",
        "    if t!=0:\n",
        "      print (\"%d ----> %s\" % (t, lang.index_word[t]))"
      ],
      "execution_count": 19,
      "outputs": []
    },
    {
      "cell_type": "code",
      "metadata": {
        "colab": {
          "base_uri": "https://localhost:8080/"
        },
        "id": "7IhO3RcgjiTa",
        "outputId": "631aa4c3-875d-4bbe-edbc-fb5756579793"
      },
      "source": [
        "print (\"Input Language; index to word mapping\")\n",
        "convert(source_sentence_tokenizer, source_train_tensor[0])\n",
        "print ()\n",
        "print (\"Target Language; index to word mapping\")\n",
        "convert( target_sentence_tokenizer, target_train_tensor[0])"
      ],
      "execution_count": 20,
      "outputs": [
        {
          "output_type": "stream",
          "text": [
            "Input Language; index to word mapping\n",
            "1 ----> start_\n",
            "41 ----> they\n",
            "283 ----> felt\n",
            "13 ----> he\n",
            "19 ----> was\n",
            "84 ----> too\n",
            "1139 ----> weak\n",
            "3 ----> .\n",
            "2 ----> _end\n",
            "\n",
            "Target Language; index to word mapping\n",
            "1 ----> start_\n",
            "60 ----> ellos\n",
            "4395 ----> sintieron\n",
            "12 ----> que\n",
            "16 ----> él\n",
            "79 ----> era\n",
            "113 ----> demasiado\n",
            "1364 ----> débil\n",
            "3 ----> .\n",
            "2 ----> _end\n"
          ],
          "name": "stdout"
        }
      ]
    },
    {
      "cell_type": "markdown",
      "metadata": {
        "id": "J82W96_Lj4dZ"
      },
      "source": [
        "###Create a tf.data dataset"
      ]
    },
    {
      "cell_type": "code",
      "metadata": {
        "colab": {
          "base_uri": "https://localhost:8080/"
        },
        "id": "wF1B9Z6wjmK2",
        "outputId": "27f8c26f-5210-4dba-b283-fe028dc5a17f"
      },
      "source": [
        "BUFFER_SIZE = len(source_train_tensor)\n",
        "BATCH_SIZE = 64\n",
        "steps_per_epoch = len(source_train_tensor)//BATCH_SIZE\n",
        "embedding_dim = 256\n",
        "units = 1024\n",
        "vocab_inp_size = len(source_sentence_tokenizer.word_index)+1\n",
        "vocab_tar_size = len(target_sentence_tokenizer.word_index)+1\n",
        "\n",
        "dataset = tf.data.Dataset.from_tensor_slices((source_train_tensor, target_train_tensor)).shuffle(BUFFER_SIZE)\n",
        "dataset = dataset.batch(BATCH_SIZE, drop_remainder=True)\n",
        "type(dataset)"
      ],
      "execution_count": 21,
      "outputs": [
        {
          "output_type": "execute_result",
          "data": {
            "text/plain": [
              "tensorflow.python.data.ops.dataset_ops.BatchDataset"
            ]
          },
          "metadata": {
            "tags": []
          },
          "execution_count": 21
        }
      ]
    },
    {
      "cell_type": "code",
      "metadata": {
        "colab": {
          "base_uri": "https://localhost:8080/"
        },
        "id": "feyNakZHkAqj",
        "outputId": "4ef7b1ab-34c8-45b6-db4b-cd7359b927cb"
      },
      "source": [
        "example_input_batch, example_target_batch = next(iter(dataset))\n",
        "example_input_batch.shape, example_target_batch.shape"
      ],
      "execution_count": 22,
      "outputs": [
        {
          "output_type": "execute_result",
          "data": {
            "text/plain": [
              "(TensorShape([64, 13]), TensorShape([64, 20]))"
            ]
          },
          "metadata": {
            "tags": []
          },
          "execution_count": 22
        }
      ]
    },
    {
      "cell_type": "markdown",
      "metadata": {
        "id": "ZsNcD2ofkUAA"
      },
      "source": [
        "###Write the encoder and decoder model"
      ]
    },
    {
      "cell_type": "code",
      "metadata": {
        "id": "lcWrZlCqkGlm"
      },
      "source": [
        "class Encoder(tf.keras.Model):\n",
        "  def __init__(self, vocab_size, embedding_dim, enc_units, batch_sz):\n",
        "    super(Encoder, self).__init__()\n",
        "    self.batch_sz = batch_sz\n",
        "    self.enc_units = enc_units\n",
        "    self.embedding = tf.keras.layers.Embedding(vocab_size, embedding_dim)\n",
        "    self.gru = tf.keras.layers.GRU(self.enc_units,\n",
        "                                   return_sequences=True,\n",
        "                                   return_state=True,\n",
        "                                   recurrent_initializer='glorot_uniform')\n",
        "\n",
        "  def call(self, x, hidden):\n",
        "    x = self.embedding(x)\n",
        "    output, state = self.gru(x, initial_state = hidden)\n",
        "    return output, state\n",
        "\n",
        "  def initialize_hidden_state(self):\n",
        "    return tf.zeros((self.batch_sz, self.enc_units))"
      ],
      "execution_count": 23,
      "outputs": []
    },
    {
      "cell_type": "code",
      "metadata": {
        "colab": {
          "base_uri": "https://localhost:8080/"
        },
        "id": "pgeFgUCcklSC",
        "outputId": "9a2a323e-24cc-46af-f725-bdf6f3bc4642"
      },
      "source": [
        "encoder = Encoder(vocab_inp_size, embedding_dim, units, BATCH_SIZE)\n",
        "\n",
        "# sample input\n",
        "sample_hidden = encoder.initialize_hidden_state()\n",
        "sample_output, sample_hidden = encoder(example_input_batch, sample_hidden)\n",
        "print ('Encoder output shape: (batch size, sequence length, units) {}'.format(sample_output.shape))\n",
        "print ('Encoder Hidden state shape: (batch size, units) {}'.format(sample_hidden.shape))"
      ],
      "execution_count": 24,
      "outputs": [
        {
          "output_type": "stream",
          "text": [
            "Encoder output shape: (batch size, sequence length, units) (64, 13, 1024)\n",
            "Encoder Hidden state shape: (batch size, units) (64, 1024)\n"
          ],
          "name": "stdout"
        }
      ]
    },
    {
      "cell_type": "code",
      "metadata": {
        "id": "OieJroz9kpGx"
      },
      "source": [
        "class BahdanauAttention(tf.keras.layers.Layer):\n",
        "  def __init__(self, units):\n",
        "    super(BahdanauAttention, self).__init__()\n",
        "    self.W1 = tf.keras.layers.Dense(units)\n",
        "    self.W2 = tf.keras.layers.Dense(units)\n",
        "    self.V = tf.keras.layers.Dense(1)\n",
        "\n",
        "  def call(self, query, values):\n",
        "    # hidden shape == (batch_size, hidden size)\n",
        "    # hidden_with_time_axis shape == (batch_size, 1, hidden size)\n",
        "    # we are doing this to perform addition to calculate the score\n",
        "    hidden_with_time_axis = tf.expand_dims(query, 1)\n",
        "\n",
        "    # score shape == (batch_size, max_length, 1)\n",
        "    # we get 1 at the last axis because we are applying score to self.V\n",
        "    # the shape of the tensor before applying self.V is (batch_size, max_length, units)\n",
        "    score = self.V(tf.nn.tanh(\n",
        "        self.W1(values) + self.W2(hidden_with_time_axis)))\n",
        "\n",
        "    # attention_weights shape == (batch_size, max_length, 1)\n",
        "    attention_weights = tf.nn.softmax(score, axis=1)\n",
        "\n",
        "    # context_vector shape after sum == (batch_size, hidden_size)\n",
        "    context_vector = attention_weights * values\n",
        "    context_vector = tf.reduce_sum(context_vector, axis=1)\n",
        "\n",
        "    return context_vector, attention_weights"
      ],
      "execution_count": 25,
      "outputs": []
    },
    {
      "cell_type": "code",
      "metadata": {
        "colab": {
          "base_uri": "https://localhost:8080/"
        },
        "id": "PuzW7RqGk6JB",
        "outputId": "d7e3a8ee-cdab-4bd9-9a28-4f7d85092ef0"
      },
      "source": [
        "attention_layer = BahdanauAttention(10)\n",
        "attention_result, attention_weights = attention_layer(sample_hidden, sample_output)\n",
        "\n",
        "print(\"Attention result shape: (batch size, units) {}\".format(attention_result.shape))\n",
        "print(\"Attention weights shape: (batch_size, sequence_length, 1) {}\".format(attention_weights.shape))"
      ],
      "execution_count": 26,
      "outputs": [
        {
          "output_type": "stream",
          "text": [
            "Attention result shape: (batch size, units) (64, 1024)\n",
            "Attention weights shape: (batch_size, sequence_length, 1) (64, 13, 1)\n"
          ],
          "name": "stdout"
        }
      ]
    },
    {
      "cell_type": "code",
      "metadata": {
        "id": "rZjT1i-uk93k"
      },
      "source": [
        "class Decoder(tf.keras.Model):\n",
        "  def __init__(self, vocab_size, embedding_dim, dec_units, batch_sz):\n",
        "    super(Decoder, self).__init__()\n",
        "    self.batch_sz = batch_sz\n",
        "    self.dec_units = dec_units\n",
        "    self.embedding = tf.keras.layers.Embedding(vocab_size, embedding_dim)\n",
        "    self.gru = tf.keras.layers.GRU(self.dec_units,\n",
        "                                   return_sequences=True,\n",
        "                                   return_state=True,\n",
        "                                   recurrent_initializer='glorot_uniform')\n",
        "    self.fc = tf.keras.layers.Dense(vocab_size)\n",
        "\n",
        "    # used for attention\n",
        "    self.attention = BahdanauAttention(self.dec_units)\n",
        "\n",
        "  def call(self, x, hidden, enc_output):\n",
        "    # enc_output shape == (batch_size, max_length, hidden_size)\n",
        "    context_vector, attention_weights = self.attention(hidden, enc_output)\n",
        "\n",
        "    # x shape after passing through embedding == (batch_size, 1, embedding_dim)\n",
        "    x = self.embedding(x)\n",
        "\n",
        "    # x shape after concatenation == (batch_size, 1, embedding_dim + hidden_size)\n",
        "    x = tf.concat([tf.expand_dims(context_vector, 1), x], axis=-1)\n",
        "\n",
        "    # passing the concatenated vector to the GRU\n",
        "    output, state = self.gru(x)\n",
        "\n",
        "    # output shape == (batch_size * 1, hidden_size)\n",
        "    output = tf.reshape(output, (-1, output.shape[2]))\n",
        "\n",
        "    # output shape == (batch_size, vocab)\n",
        "    x = self.fc(output)\n",
        "\n",
        "    return x, state, attention_weights"
      ],
      "execution_count": 27,
      "outputs": []
    },
    {
      "cell_type": "code",
      "metadata": {
        "colab": {
          "base_uri": "https://localhost:8080/"
        },
        "id": "BoblVzNBlDky",
        "outputId": "e0927524-dc70-4a12-898a-182c1a7e4913"
      },
      "source": [
        "decoder = Decoder(vocab_tar_size, embedding_dim, units, BATCH_SIZE)\n",
        "\n",
        "sample_decoder_output, _, _ = decoder(tf.random.uniform((BATCH_SIZE, 1)),\n",
        "                                      sample_hidden, sample_output)\n",
        "\n",
        "print ('Decoder output shape: (batch_size, vocab size) {}'.format(sample_decoder_output.shape))"
      ],
      "execution_count": 28,
      "outputs": [
        {
          "output_type": "stream",
          "text": [
            "Decoder output shape: (batch_size, vocab size) (64, 15349)\n"
          ],
          "name": "stdout"
        }
      ]
    },
    {
      "cell_type": "markdown",
      "metadata": {
        "id": "v5r92cTKlMci"
      },
      "source": [
        "##Define the optimizer and the loss function"
      ]
    },
    {
      "cell_type": "code",
      "metadata": {
        "id": "f8In-MTOlHhE"
      },
      "source": [
        "optimizer = tf.keras.optimizers.Adam()\n",
        "loss_object = tf.keras.losses.SparseCategoricalCrossentropy(\n",
        "    from_logits=True, reduction='none')\n",
        "\n",
        "def loss_function(real, pred):\n",
        "  mask = tf.math.logical_not(tf.math.equal(real, 0))\n",
        "  loss_ = loss_object(real, pred)\n",
        "\n",
        "  mask = tf.cast(mask, dtype=loss_.dtype)\n",
        "  loss_ *= mask\n",
        "\n",
        "  return tf.reduce_mean(loss_)"
      ],
      "execution_count": 29,
      "outputs": []
    },
    {
      "cell_type": "markdown",
      "metadata": {
        "id": "ih0pan47lZDA"
      },
      "source": [
        "###Checkpoints (Object-based saving)"
      ]
    },
    {
      "cell_type": "code",
      "metadata": {
        "id": "O1VHsCmAlRiq"
      },
      "source": [
        "checkpoint_dir = 'training_checkpoints'\n",
        "checkpoint_prefix = os.path.join(checkpoint_dir, \"ckpt\")\n",
        "checkpoint = tf.train.Checkpoint(optimizer=optimizer,\n",
        "                                 encoder=encoder,\n",
        "                                 decoder=decoder)"
      ],
      "execution_count": 30,
      "outputs": []
    },
    {
      "cell_type": "code",
      "metadata": {
        "id": "2zDBsWO6xdCH"
      },
      "source": [
        "act = \"puede que tom hayaestado enfermo.\"\n",
        "pred = translatee(u'tom may have been sick.')"
      ],
      "execution_count": 95,
      "outputs": []
    },
    {
      "cell_type": "markdown",
      "metadata": {
        "id": "PF4wnLAflkmv"
      },
      "source": [
        "###Training"
      ]
    },
    {
      "cell_type": "markdown",
      "metadata": {
        "id": "6-h_bAMDlmmw"
      },
      "source": [
        "Pass the input through the encoder which return encoder output and the encoder hidden state.\n",
        "\n",
        "The encoder output, encoder hidden state and the decoder input (which is the start token) is passed to the decoder.\n",
        "\n",
        "The decoder returns the predictions and the decoder hidden state.\n",
        "\n",
        "The decoder hidden state is then passed back into the model and the predictions are used to calculate the loss.\n",
        "\n",
        "Use teacher forcing to decide the next input to the decoder.\n",
        "\n",
        "Teacher forcing is the technique where the target word is passed as the next input to the decoder.\n",
        "\n",
        "The final step is to calculate the gradients and apply it to the optimizer and backpropagate."
      ]
    },
    {
      "cell_type": "code",
      "metadata": {
        "id": "hcqsV143ld0g"
      },
      "source": [
        "@tf.function\n",
        "def train_step(inp, targ, enc_hidden):\n",
        "  loss = 0\n",
        "\n",
        "  with tf.GradientTape() as tape:\n",
        "    enc_output, enc_hidden = encoder(inp, enc_hidden)\n",
        "\n",
        "    dec_hidden = enc_hidden\n",
        "\n",
        "    dec_input = tf.expand_dims([target_sentence_tokenizer.word_index['start_']] * BATCH_SIZE, 1)\n",
        "\n",
        "    # Teacher forcing - feeding the target as the next input\n",
        "    for t in range(1, targ.shape[1]):\n",
        "      # passing enc_output to the decoder\n",
        "      predictions, dec_hidden, _ = decoder(dec_input, dec_hidden, enc_output)\n",
        "\n",
        "      loss += loss_function(targ[:, t], predictions)\n",
        "\n",
        "      # using teacher forcing\n",
        "      dec_input = tf.expand_dims(targ[:, t], 1)\n",
        "\n",
        "  batch_loss = (loss / int(targ.shape[1]))\n",
        "\n",
        "  variables = encoder.trainable_variables + decoder.trainable_variables\n",
        "\n",
        "  gradients = tape.gradient(loss, variables)\n",
        "\n",
        "  optimizer.apply_gradients(zip(gradients, variables))\n",
        "\n",
        "  return batch_loss"
      ],
      "execution_count": 31,
      "outputs": []
    },
    {
      "cell_type": "code",
      "metadata": {
        "colab": {
          "base_uri": "https://localhost:8080/"
        },
        "id": "-WAZeyrTlxLj",
        "outputId": "0a288d58-3bea-401f-d842-5276f34e5e6e"
      },
      "source": [
        "steps_per_epoch"
      ],
      "execution_count": 32,
      "outputs": [
        {
          "output_type": "execute_result",
          "data": {
            "text/plain": [
              "750"
            ]
          },
          "metadata": {
            "tags": []
          },
          "execution_count": 32
        }
      ]
    },
    {
      "cell_type": "code",
      "metadata": {
        "colab": {
          "base_uri": "https://localhost:8080/"
        },
        "id": "U0WGamull1NP",
        "outputId": "552386eb-2392-4bdc-b61d-3e7dec2229a6"
      },
      "source": [
        "EPOCHS = 20\n",
        "\n",
        "for epoch in range(EPOCHS):\n",
        "  start = time.time()\n",
        "\n",
        "  enc_hidden = encoder.initialize_hidden_state()\n",
        "  total_loss = 0\n",
        "\n",
        "  for (batch, (inp, targ)) in enumerate(dataset.take(steps_per_epoch)):\n",
        "    batch_loss = train_step(inp, targ, enc_hidden)\n",
        "    total_loss += batch_loss\n",
        "    if batch % 100 == 0:\n",
        "      print('Epoch {} Batch {} loss {}'.format(epoch + 1,batch, batch_loss.numpy()))\n",
        "   \n",
        "      \n",
        "  # saving (checkpoint) the model every 2 epochs\n",
        "  if (epoch + 1) % 2 == 0:\n",
        "    checkpoint.save(file_prefix = checkpoint_prefix)\n",
        "\n",
        "  print('Epoch {} Loss {:.4f}'.format(epoch + 1,\n",
        "                                      total_loss / steps_per_epoch))\n",
        "  print('Time taken for 1 epoch {} sec\\n'.format(time.time() - start))"
      ],
      "execution_count": 33,
      "outputs": [
        {
          "output_type": "stream",
          "text": [
            "Epoch 1 Batch 0 loss 2.929354190826416\n",
            "Epoch 1 Batch 100 loss 1.5624536275863647\n",
            "Epoch 1 Batch 200 loss 1.5000457763671875\n",
            "Epoch 1 Batch 300 loss 1.3340100049972534\n",
            "Epoch 1 Batch 400 loss 1.1841086149215698\n",
            "Epoch 1 Batch 500 loss 1.3030389547348022\n",
            "Epoch 1 Batch 600 loss 1.1054136753082275\n",
            "Epoch 1 Batch 700 loss 1.0727628469467163\n",
            "Epoch 1 Loss 1.3316\n",
            "Time taken for 1 epoch 126.24873304367065 sec\n",
            "\n",
            "Epoch 2 Batch 0 loss 0.97889244556427\n",
            "Epoch 2 Batch 100 loss 0.9670166969299316\n",
            "Epoch 2 Batch 200 loss 0.9076053500175476\n",
            "Epoch 2 Batch 300 loss 0.9308255314826965\n",
            "Epoch 2 Batch 400 loss 0.8875002264976501\n",
            "Epoch 2 Batch 500 loss 0.7491058707237244\n",
            "Epoch 2 Batch 600 loss 0.7226148843765259\n",
            "Epoch 2 Batch 700 loss 0.6775697469711304\n",
            "Epoch 2 Loss 0.8286\n",
            "Time taken for 1 epoch 106.21266174316406 sec\n",
            "\n",
            "Epoch 3 Batch 0 loss 0.6952165961265564\n",
            "Epoch 3 Batch 100 loss 0.6274794936180115\n",
            "Epoch 3 Batch 200 loss 0.5603978037834167\n",
            "Epoch 3 Batch 300 loss 0.5267680883407593\n",
            "Epoch 3 Batch 400 loss 0.5110331773757935\n",
            "Epoch 3 Batch 500 loss 0.5369577407836914\n",
            "Epoch 3 Batch 600 loss 0.5308071374893188\n",
            "Epoch 3 Batch 700 loss 0.4786403775215149\n",
            "Epoch 3 Loss 0.5430\n",
            "Time taken for 1 epoch 104.8927059173584 sec\n",
            "\n",
            "Epoch 4 Batch 0 loss 0.3762722611427307\n",
            "Epoch 4 Batch 100 loss 0.3930814862251282\n",
            "Epoch 4 Batch 200 loss 0.40432968735694885\n",
            "Epoch 4 Batch 300 loss 0.34421297907829285\n",
            "Epoch 4 Batch 400 loss 0.3839719593524933\n",
            "Epoch 4 Batch 500 loss 0.39218670129776\n",
            "Epoch 4 Batch 600 loss 0.41013890504837036\n",
            "Epoch 4 Batch 700 loss 0.317891389131546\n",
            "Epoch 4 Loss 0.3762\n",
            "Time taken for 1 epoch 106.21084547042847 sec\n",
            "\n",
            "Epoch 5 Batch 0 loss 0.2741304039955139\n",
            "Epoch 5 Batch 100 loss 0.26604196429252625\n",
            "Epoch 5 Batch 200 loss 0.28379693627357483\n",
            "Epoch 5 Batch 300 loss 0.2721514403820038\n",
            "Epoch 5 Batch 400 loss 0.24907660484313965\n",
            "Epoch 5 Batch 500 loss 0.2875541150569916\n",
            "Epoch 5 Batch 600 loss 0.30228543281555176\n",
            "Epoch 5 Batch 700 loss 0.3119409680366516\n",
            "Epoch 5 Loss 0.2723\n",
            "Time taken for 1 epoch 104.95653438568115 sec\n",
            "\n",
            "Epoch 6 Batch 0 loss 0.21941988170146942\n",
            "Epoch 6 Batch 100 loss 0.20861998200416565\n",
            "Epoch 6 Batch 200 loss 0.25552263855934143\n",
            "Epoch 6 Batch 300 loss 0.2374567985534668\n",
            "Epoch 6 Batch 400 loss 0.19475451111793518\n",
            "Epoch 6 Batch 500 loss 0.21332870423793793\n",
            "Epoch 6 Batch 600 loss 0.2389262169599533\n",
            "Epoch 6 Batch 700 loss 0.2135729342699051\n",
            "Epoch 6 Loss 0.2064\n",
            "Time taken for 1 epoch 105.87316060066223 sec\n",
            "\n",
            "Epoch 7 Batch 0 loss 0.17501501739025116\n",
            "Epoch 7 Batch 100 loss 0.12977324426174164\n",
            "Epoch 7 Batch 200 loss 0.13145147264003754\n",
            "Epoch 7 Batch 300 loss 0.13751934468746185\n",
            "Epoch 7 Batch 400 loss 0.16157014667987823\n",
            "Epoch 7 Batch 500 loss 0.15002559125423431\n",
            "Epoch 7 Batch 600 loss 0.18364650011062622\n",
            "Epoch 7 Batch 700 loss 0.1624896079301834\n",
            "Epoch 7 Loss 0.1645\n",
            "Time taken for 1 epoch 104.91502737998962 sec\n",
            "\n",
            "Epoch 8 Batch 0 loss 0.12162947654724121\n",
            "Epoch 8 Batch 100 loss 0.10888984054327011\n",
            "Epoch 8 Batch 200 loss 0.11362569779157639\n",
            "Epoch 8 Batch 300 loss 0.14954248070716858\n",
            "Epoch 8 Batch 400 loss 0.12477371841669083\n",
            "Epoch 8 Batch 500 loss 0.12753550708293915\n",
            "Epoch 8 Batch 600 loss 0.1570833921432495\n",
            "Epoch 8 Batch 700 loss 0.14938770234584808\n",
            "Epoch 8 Loss 0.1382\n",
            "Time taken for 1 epoch 106.06897735595703 sec\n",
            "\n",
            "Epoch 9 Batch 0 loss 0.11162612587213516\n",
            "Epoch 9 Batch 100 loss 0.11742819845676422\n",
            "Epoch 9 Batch 200 loss 0.11494922637939453\n",
            "Epoch 9 Batch 300 loss 0.12534697353839874\n",
            "Epoch 9 Batch 400 loss 0.11668229103088379\n",
            "Epoch 9 Batch 500 loss 0.1111113429069519\n",
            "Epoch 9 Batch 600 loss 0.13427554070949554\n",
            "Epoch 9 Batch 700 loss 0.1397160142660141\n",
            "Epoch 9 Loss 0.1188\n",
            "Time taken for 1 epoch 105.10178112983704 sec\n",
            "\n",
            "Epoch 10 Batch 0 loss 0.09404324740171432\n",
            "Epoch 10 Batch 100 loss 0.07862386107444763\n",
            "Epoch 10 Batch 200 loss 0.09775424748659134\n",
            "Epoch 10 Batch 300 loss 0.09410674124956131\n",
            "Epoch 10 Batch 400 loss 0.11667883396148682\n",
            "Epoch 10 Batch 500 loss 0.1254860907793045\n",
            "Epoch 10 Batch 600 loss 0.09728182852268219\n",
            "Epoch 10 Batch 700 loss 0.12064695358276367\n",
            "Epoch 10 Loss 0.1049\n",
            "Time taken for 1 epoch 105.73225951194763 sec\n",
            "\n",
            "Epoch 11 Batch 0 loss 0.09516770392656326\n",
            "Epoch 11 Batch 100 loss 0.07499440759420395\n",
            "Epoch 11 Batch 200 loss 0.07804729044437408\n",
            "Epoch 11 Batch 300 loss 0.10713227093219757\n",
            "Epoch 11 Batch 400 loss 0.12228405475616455\n",
            "Epoch 11 Batch 500 loss 0.10084688663482666\n",
            "Epoch 11 Batch 600 loss 0.08792375773191452\n",
            "Epoch 11 Batch 700 loss 0.1350601464509964\n",
            "Epoch 11 Loss 0.0949\n",
            "Time taken for 1 epoch 105.03112745285034 sec\n",
            "\n",
            "Epoch 12 Batch 0 loss 0.06723137944936752\n",
            "Epoch 12 Batch 100 loss 0.07016982138156891\n",
            "Epoch 12 Batch 200 loss 0.09514706581830978\n",
            "Epoch 12 Batch 300 loss 0.11308558285236359\n",
            "Epoch 12 Batch 400 loss 0.0902334600687027\n",
            "Epoch 12 Batch 500 loss 0.10027074813842773\n",
            "Epoch 12 Batch 600 loss 0.10305190086364746\n",
            "Epoch 12 Batch 700 loss 0.1038200855255127\n",
            "Epoch 12 Loss 0.0880\n",
            "Time taken for 1 epoch 106.1225357055664 sec\n",
            "\n",
            "Epoch 13 Batch 0 loss 0.0605730302631855\n",
            "Epoch 13 Batch 100 loss 0.08090752363204956\n",
            "Epoch 13 Batch 200 loss 0.08539936691522598\n",
            "Epoch 13 Batch 300 loss 0.05681430920958519\n",
            "Epoch 13 Batch 400 loss 0.10004470497369766\n",
            "Epoch 13 Batch 500 loss 0.08814772218465805\n",
            "Epoch 13 Batch 600 loss 0.07539772242307663\n",
            "Epoch 13 Batch 700 loss 0.10653581470251083\n",
            "Epoch 13 Loss 0.0825\n",
            "Time taken for 1 epoch 104.96070337295532 sec\n",
            "\n",
            "Epoch 14 Batch 0 loss 0.043421726673841476\n",
            "Epoch 14 Batch 100 loss 0.06477289646863937\n",
            "Epoch 14 Batch 200 loss 0.05634596571326256\n",
            "Epoch 14 Batch 300 loss 0.11098776012659073\n",
            "Epoch 14 Batch 400 loss 0.08634021878242493\n",
            "Epoch 14 Batch 500 loss 0.08106040954589844\n",
            "Epoch 14 Batch 600 loss 0.11336515098810196\n",
            "Epoch 14 Batch 700 loss 0.0875902771949768\n",
            "Epoch 14 Loss 0.0775\n",
            "Time taken for 1 epoch 105.92705368995667 sec\n",
            "\n",
            "Epoch 15 Batch 0 loss 0.07110124826431274\n",
            "Epoch 15 Batch 100 loss 0.041223496198654175\n",
            "Epoch 15 Batch 200 loss 0.05444622039794922\n",
            "Epoch 15 Batch 300 loss 0.06505008786916733\n",
            "Epoch 15 Batch 400 loss 0.10002591460943222\n",
            "Epoch 15 Batch 500 loss 0.07823777198791504\n",
            "Epoch 15 Batch 600 loss 0.1028941199183464\n",
            "Epoch 15 Batch 700 loss 0.08139076828956604\n",
            "Epoch 15 Loss 0.0738\n",
            "Time taken for 1 epoch 105.03266072273254 sec\n",
            "\n",
            "Epoch 16 Batch 0 loss 0.05444565415382385\n",
            "Epoch 16 Batch 100 loss 0.07188846915960312\n",
            "Epoch 16 Batch 200 loss 0.0684075802564621\n",
            "Epoch 16 Batch 300 loss 0.07514648884534836\n",
            "Epoch 16 Batch 400 loss 0.07318412512540817\n",
            "Epoch 16 Batch 500 loss 0.08338367193937302\n",
            "Epoch 16 Batch 600 loss 0.08806774020195007\n",
            "Epoch 16 Batch 700 loss 0.07175364345312119\n",
            "Epoch 16 Loss 0.0704\n",
            "Time taken for 1 epoch 106.58367872238159 sec\n",
            "\n",
            "Epoch 17 Batch 0 loss 0.03475581482052803\n",
            "Epoch 17 Batch 100 loss 0.08560547977685928\n",
            "Epoch 17 Batch 200 loss 0.07598443329334259\n",
            "Epoch 17 Batch 300 loss 0.06985687464475632\n",
            "Epoch 17 Batch 400 loss 0.0720338374376297\n",
            "Epoch 17 Batch 500 loss 0.09402012825012207\n",
            "Epoch 17 Batch 600 loss 0.09114306420087814\n",
            "Epoch 17 Batch 700 loss 0.07361949980258942\n",
            "Epoch 17 Loss 0.0676\n",
            "Time taken for 1 epoch 105.49528789520264 sec\n",
            "\n",
            "Epoch 18 Batch 0 loss 0.04619769752025604\n",
            "Epoch 18 Batch 100 loss 0.04613145813345909\n",
            "Epoch 18 Batch 200 loss 0.0681002289056778\n",
            "Epoch 18 Batch 300 loss 0.06708776205778122\n",
            "Epoch 18 Batch 400 loss 0.060449447482824326\n",
            "Epoch 18 Batch 500 loss 0.0761597529053688\n",
            "Epoch 18 Batch 600 loss 0.09869145601987839\n",
            "Epoch 18 Batch 700 loss 0.08625688403844833\n",
            "Epoch 18 Loss 0.0655\n",
            "Time taken for 1 epoch 106.97707033157349 sec\n",
            "\n",
            "Epoch 19 Batch 0 loss 0.033660661429166794\n",
            "Epoch 19 Batch 100 loss 0.045407190918922424\n",
            "Epoch 19 Batch 200 loss 0.06903053820133209\n",
            "Epoch 19 Batch 300 loss 0.06101137399673462\n",
            "Epoch 19 Batch 400 loss 0.07376773655414581\n",
            "Epoch 19 Batch 500 loss 0.07184218615293503\n",
            "Epoch 19 Batch 600 loss 0.08674149960279465\n",
            "Epoch 19 Batch 700 loss 0.08936827629804611\n",
            "Epoch 19 Loss 0.0643\n",
            "Time taken for 1 epoch 105.61589932441711 sec\n",
            "\n",
            "Epoch 20 Batch 0 loss 0.05391345173120499\n",
            "Epoch 20 Batch 100 loss 0.03902849182486534\n",
            "Epoch 20 Batch 200 loss 0.053998567163944244\n",
            "Epoch 20 Batch 300 loss 0.0546271912753582\n",
            "Epoch 20 Batch 400 loss 0.052211958914995193\n",
            "Epoch 20 Batch 500 loss 0.06597622483968735\n",
            "Epoch 20 Batch 600 loss 0.07990928739309311\n",
            "Epoch 20 Batch 700 loss 0.09440808743238449\n",
            "Epoch 20 Loss 0.0623\n",
            "Time taken for 1 epoch 106.72290563583374 sec\n",
            "\n"
          ],
          "name": "stdout"
        }
      ]
    },
    {
      "cell_type": "markdown",
      "metadata": {
        "id": "EQOJ92iFPFg7"
      },
      "source": [
        "##Translate"
      ]
    },
    {
      "cell_type": "markdown",
      "metadata": {
        "id": "Z0QBSDkYPJPH"
      },
      "source": [
        "The evaluate function is similar to the training loop, except we don't use teacher forcing here. The input to the decoder at each time step is its previous predictions along with the hidden state and the encoder output.\n",
        "\n",
        "Stop predicting when the model predicts the end token or when the max traget legth is reached\n",
        "\n",
        "And store the attention weights for every time step.\n",
        "\n",
        "Note: The encoder output is calculated only once for one input"
      ]
    },
    {
      "cell_type": "code",
      "metadata": {
        "id": "ny-35UW0UXDD"
      },
      "source": [
        "#Calculating the max length of the source and target sentences\n",
        "max_target_length= max(len(t) for t in  target_tensor)\n",
        "max_source_length= max(len(t) for t in source_tensor)"
      ],
      "execution_count": 35,
      "outputs": []
    },
    {
      "cell_type": "code",
      "metadata": {
        "id": "T68GtWpD9sOs"
      },
      "source": [
        "def evaluate(sentence):\n",
        "  attention_plot = np.zeros((max_target_length, max_source_length))\n",
        "\n",
        "  sentence = preprocess_sentence(sentence)\n",
        "  #print(sentence)\n",
        "  #print(source_sentence_tokenizer.word_index)\n",
        "\n",
        "  inputs = [source_sentence_tokenizer.word_index[i] for i in sentence.split(' ')]\n",
        "  inputs = tf.keras.preprocessing.sequence.pad_sequences([inputs],\n",
        "                                                         maxlen=max_source_length,\n",
        "                                                         padding='post')\n",
        "  inputs = tf.convert_to_tensor(inputs)\n",
        "\n",
        "  result = ''\n",
        "\n",
        "  hidden = [tf.zeros((1, units))]\n",
        "  enc_out, enc_hidden = encoder(inputs, hidden)\n",
        "\n",
        "  dec_hidden = enc_hidden\n",
        "  dec_input = tf.expand_dims([target_sentence_tokenizer.word_index['start_']], 0)\n",
        "\n",
        "  for t in range(max_target_length):\n",
        "    predictions, dec_hidden, attention_weights = decoder(dec_input,\n",
        "                                                         dec_hidden,\n",
        "                                                         enc_out)\n",
        "\n",
        "    # storing the attention weights to plot later on\n",
        "    attention_weights = tf.reshape(attention_weights, (-1, ))\n",
        "    attention_plot[t] = attention_weights.numpy()\n",
        "\n",
        "    predicted_id = tf.argmax(predictions[0]).numpy()\n",
        "\n",
        "    result += target_sentence_tokenizer.index_word[predicted_id] + ' '\n",
        "\n",
        "    if target_sentence_tokenizer.index_word[predicted_id] == '_end':\n",
        "      return result, sentence, attention_plot\n",
        "\n",
        "    # the predicted ID is fed back into the model\n",
        "    dec_input = tf.expand_dims([predicted_id], 0)\n",
        "\n",
        "  return result, sentence, attention_plot"
      ],
      "execution_count": 36,
      "outputs": []
    },
    {
      "cell_type": "markdown",
      "metadata": {
        "id": "IuG5OXl9PYvH"
      },
      "source": [
        "##To Plot Attention weights"
      ]
    },
    {
      "cell_type": "code",
      "metadata": {
        "id": "NPHk1zL_PVqP"
      },
      "source": [
        "#function for plotting the attention weights\n",
        "def plot_attention(attention, sentence, predicted_sentence):\n",
        "  fig = plt.figure(figsize=(10,10))\n",
        "  ax = fig.add_subplot(1, 1, 1)\n",
        "  ax.matshow(attention, cmap='viridis')\n",
        "\n",
        "  fontdict = {'fontsize': 14}\n",
        "\n",
        "  ax.set_xticklabels([''] + sentence, fontdict=fontdict, rotation=90)\n",
        "  ax.set_yticklabels([''] + predicted_sentence, fontdict=fontdict)\n",
        "\n",
        "  ax.xaxis.set_major_locator(ticker.MultipleLocator(1))\n",
        "  ax.yaxis.set_major_locator(ticker.MultipleLocator(1))\n",
        "\n",
        "  plt.show()"
      ],
      "execution_count": 37,
      "outputs": []
    },
    {
      "cell_type": "code",
      "metadata": {
        "id": "MGm8vHh9PhFy"
      },
      "source": [
        "def translatee(sentence):\n",
        "  result, sentence, attention_plot = evaluate(sentence)\n",
        "  \n",
        "  #print('Input: %s' % (sentence))\n",
        "  #print('Predicted translation: {}'.format(result))\n",
        "  return result\n",
        "\n",
        " # attention_plot = attention_plot[:len(result.split(' ')), :len(sentence.split(' '))]\n",
        " # plot_attention(attention_plot, sentence.split(' '), result.split(' '))"
      ],
      "execution_count": 85,
      "outputs": []
    },
    {
      "cell_type": "code",
      "metadata": {
        "id": "UdWjemoYuiHD"
      },
      "source": [
        "def translate(sentence):\n",
        "  result, sentence, attention_plot = evaluate(sentence)\n",
        "  \n",
        "  print('Input: %s' % (sentence))\n",
        "  print('Predicted translation: {}'.format(result))\n",
        "  \n",
        "\n",
        "  attention_plot = attention_plot[:len(result.split(' ')), :len(sentence.split(' '))]\n",
        "  plot_attention(attention_plot, sentence.split(' '), result.split(' '))"
      ],
      "execution_count": 86,
      "outputs": []
    },
    {
      "cell_type": "markdown",
      "metadata": {
        "id": "kC1qOf3xPoUf"
      },
      "source": [
        "##Restore the latest checkpoint and test"
      ]
    },
    {
      "cell_type": "code",
      "metadata": {
        "colab": {
          "base_uri": "https://localhost:8080/"
        },
        "id": "g72RuuyFPlFu",
        "outputId": "0be422e9-bfb7-46bf-e295-a29d891a3241"
      },
      "source": [
        "# restoring the latest checkpoint in checkpoint_dir\n",
        "checkpoint.restore(tf.train.latest_checkpoint(checkpoint_dir))"
      ],
      "execution_count": 87,
      "outputs": [
        {
          "output_type": "execute_result",
          "data": {
            "text/plain": [
              "<tensorflow.python.training.tracking.util.CheckpointLoadStatus at 0x7f16679bfd50>"
            ]
          },
          "metadata": {
            "tags": []
          },
          "execution_count": 87
        }
      ]
    },
    {
      "cell_type": "markdown",
      "metadata": {
        "id": "khAE_K_uPv3P"
      },
      "source": [
        "##Final translations with Attention Plots"
      ]
    },
    {
      "cell_type": "code",
      "metadata": {
        "colab": {
          "base_uri": "https://localhost:8080/",
          "height": 534
        },
        "id": "_-nO-Ua7PtPf",
        "outputId": "3581ce58-1d24-449b-a040-2a0959747124"
      },
      "source": [
        "translate(u'I am going to work.')"
      ],
      "execution_count": 88,
      "outputs": [
        {
          "output_type": "stream",
          "text": [
            "Input: start_ i am going to work . _end\n",
            "Predicted translation: voy a trabajar . _end \n"
          ],
          "name": "stdout"
        },
        {
          "output_type": "display_data",
          "data": {
            "image/png": "[encoded data removed]",
            "text/plain": [
              "<Figure size 720x720 with 1 Axes>"
            ]
          },
          "metadata": {
            "tags": [],
            "needs_background": "light"
          }
        }
      ]
    },
    {
      "cell_type": "code",
      "metadata": {
        "id": "D3cNgfjgUkoV",
        "colab": {
          "base_uri": "https://localhost:8080/",
          "height": 465
        },
        "outputId": "65f10409-ecd2-4a1a-af1d-fbed1fa80383"
      },
      "source": [
        "translate(u'You need to work smart.')"
      ],
      "execution_count": 89,
      "outputs": [
        {
          "output_type": "stream",
          "text": [
            "Input: start_ you need to work smart . _end\n",
            "Predicted translation: necesitas trabajar . _end \n"
          ],
          "name": "stdout"
        },
        {
          "output_type": "display_data",
          "data": {
            "image/png": "[encoded data removed]",
            "text/plain": [
              "<Figure size 720x720 with 1 Axes>"
            ]
          },
          "metadata": {
            "tags": [],
            "needs_background": "light"
          }
        }
      ]
    },
    {
      "cell_type": "code",
      "metadata": {
        "colab": {
          "base_uri": "https://localhost:8080/",
          "height": 35
        },
        "id": "xE0MBGycVz1q",
        "outputId": "92584ac5-f44c-4f57-d16c-7486e0c17935"
      },
      "source": [
        "translatee(u'tom may have been sick.')"
      ],
      "execution_count": 96,
      "outputs": [
        {
          "output_type": "execute_result",
          "data": {
            "application/vnd.google.colaboratory.intrinsic+json": {
              "type": "string"
            },
            "text/plain": [
              "'tom pudo haber sido enfermo . _end '"
            ]
          },
          "metadata": {
            "tags": []
          },
          "execution_count": 96
        }
      ]
    },
    {
      "cell_type": "markdown",
      "metadata": {
        "id": "W2MrGCWIuZZf"
      },
      "source": [
        "###Calculating the bleu score"
      ]
    },
    {
      "cell_type": "code",
      "metadata": {
        "colab": {
          "base_uri": "https://localhost:8080/"
        },
        "id": "4AgRgnKWV6Mi",
        "outputId": "9ae7531c-cdc7-4722-ad00-484b4d96e717"
      },
      "source": [
        "print('Cumulative 1-gram: %f' % sentence_bleu(act, pred, weights=(1, 0, 0, 0)))\n",
        "print('Cumulative 2-gram: %f' % sentence_bleu(act, pred, weights=(0.5, 0.5, 0, 0)))\n",
        "print('Cumulative 3-gram: %f' % sentence_bleu(act, pred, weights=(0.33, 0.33, 0.33, 0)))\n",
        "print('Cumulative 4-gram: %f' % sentence_bleu(act, pred, weights=(0.25, 0.25, 0.25, 0.25)))"
      ],
      "execution_count": 97,
      "outputs": [
        {
          "output_type": "stream",
          "text": [
            "Cumulative 1-gram: 0.428571\n",
            "Cumulative 2-gram: 0.654654\n",
            "Cumulative 3-gram: 0.756080\n",
            "Cumulative 4-gram: 0.809107\n"
          ],
          "name": "stdout"
        },
        {
          "output_type": "stream",
          "text": [
            "/usr/local/lib/python3.7/dist-packages/nltk/translate/bleu_score.py:490: UserWarning: \n",
            "Corpus/Sentence contains 0 counts of 2-gram overlaps.\n",
            "BLEU scores might be undesirable; use SmoothingFunction().\n",
            "  warnings.warn(_msg)\n"
          ],
          "name": "stderr"
        }
      ]
    },
    {
      "cell_type": "code",
      "metadata": {
        "id": "8SEwQ30DnysO"
      },
      "source": [
        ""
      ],
      "execution_count": null,
      "outputs": []
    }
  ]
}