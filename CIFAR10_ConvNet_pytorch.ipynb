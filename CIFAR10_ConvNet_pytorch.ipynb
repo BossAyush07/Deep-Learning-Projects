{
  "nbformat": 4,
  "nbformat_minor": 0,
  "metadata": {
    "colab": {
      "name": "CIFAR10 ConvNet pytorch.ipynb",
      "provenance": [],
      "collapsed_sections": [],
      "include_colab_link": true
    },
    "kernelspec": {
      "name": "python3",
      "display_name": "Python 3"
    },
    "accelerator": "GPU"
  },
  "cells": [
    {
      "cell_type": "markdown",
      "metadata": {
        "id": "view-in-github",
        "colab_type": "text"
      },
      "source": [
        "<a href=\"https://colab.research.google.com/github/BossAyush07/Deep-Learning-Projects/blob/master/CIFAR10_ConvNet_pytorch.ipynb\" target=\"_parent\"><img src=\"https://colab.research.google.com/assets/colab-badge.svg\" alt=\"Open In Colab\"/></a>"
      ]
    },
    {
      "cell_type": "markdown",
      "metadata": {
        "id": "1YFKJU_U6NKF"
      },
      "source": [
        "### Importing Important Libraries"
      ]
    },
    {
      "cell_type": "code",
      "metadata": {
        "id": "IgrrNNjllzeS"
      },
      "source": [
        "# Loading Libraries\n",
        "import torch \n",
        "import torch.nn as nn\n",
        "import torchvision\n",
        "import torchvision.transforms as transforms\n",
        "import matplotlib.pyplot as plt\n",
        "import numpy as np\n",
        "import torch.nn.functional as F"
      ],
      "execution_count": 1,
      "outputs": []
    },
    {
      "cell_type": "markdown",
      "metadata": {
        "id": "IsezgZLCvjpn"
      },
      "source": [
        "### Accessing gpu for model"
      ]
    },
    {
      "cell_type": "code",
      "metadata": {
        "id": "jxd59RY4l_o4"
      },
      "source": [
        "# Model to device\n",
        "device = torch.device('cuda:0' if torch.cuda.is_available() else 'cpu')"
      ],
      "execution_count": 2,
      "outputs": []
    },
    {
      "cell_type": "markdown",
      "metadata": {
        "id": "OV6GtWdfvr2u"
      },
      "source": [
        "### Downloading and Loading the Dataset"
      ]
    },
    {
      "cell_type": "code",
      "metadata": {
        "id": "kat6kiW7mGyd",
        "colab": {
          "base_uri": "https://localhost:8080/"
        },
        "outputId": "3f7e3157-8016-4cc3-cd55-cd51f6975e84"
      },
      "source": [
        "# MNIST dataset\n",
        "train_dataset = torchvision.datasets.CIFAR10(root='/data/',\n",
        "                                           train=True, \n",
        "                                           transform=transforms.ToTensor(),\n",
        "                                           download=True)\n",
        "\n",
        "test_dataset = torchvision.datasets.CIFAR10(root='/data/',\n",
        "                                          train=False, \n",
        "                                          transform=transforms.ToTensor())\n",
        "\n"
      ],
      "execution_count": 60,
      "outputs": [
        {
          "output_type": "stream",
          "text": [
            "Files already downloaded and verified\n"
          ],
          "name": "stdout"
        }
      ]
    },
    {
      "cell_type": "code",
      "metadata": {
        "id": "xWS76JA3CtGC"
      },
      "source": [
        "# Data loader\r\n",
        "batch_size = 400\r\n",
        "train_loader = torch.utils.data.DataLoader(dataset=train_dataset,\r\n",
        "                                           batch_size=batch_size, \r\n",
        "                                           shuffle=True)\r\n",
        "\r\n",
        "test_loader = torch.utils.data.DataLoader(dataset=test_dataset,\r\n",
        "                                          batch_size=batch_size, \r\n",
        "                                          shuffle=False)\r\n",
        "\r\n",
        "\r\n",
        "classes = ('plane', 'car', 'bird', 'cat',\r\n",
        "           'deer', 'dog', 'frog', 'horse', 'ship', 'truck')\r\n"
      ],
      "execution_count": 61,
      "outputs": []
    },
    {
      "cell_type": "code",
      "metadata": {
        "colab": {
          "base_uri": "https://localhost:8080/"
        },
        "id": "czUWGxj0H8Nq",
        "outputId": "ea1d4cec-8dfd-48ca-fa1c-329ef73105c2"
      },
      "source": [
        "img_arr = np.array(train_dataset[0][0])\r\n",
        "img_arr"
      ],
      "execution_count": 62,
      "outputs": [
        {
          "output_type": "execute_result",
          "data": {
            "text/plain": [
              "array([[[0.23137255, 0.16862746, 0.19607843, ..., 0.61960787,\n",
              "         0.59607846, 0.5803922 ],\n",
              "        [0.0627451 , 0.        , 0.07058824, ..., 0.48235294,\n",
              "         0.46666667, 0.47843137],\n",
              "        [0.09803922, 0.0627451 , 0.19215687, ..., 0.4627451 ,\n",
              "         0.47058824, 0.42745098],\n",
              "        ...,\n",
              "        [0.8156863 , 0.7882353 , 0.7764706 , ..., 0.627451  ,\n",
              "         0.21960784, 0.20784314],\n",
              "        [0.7058824 , 0.6784314 , 0.7294118 , ..., 0.72156864,\n",
              "         0.38039216, 0.3254902 ],\n",
              "        [0.69411767, 0.65882355, 0.7019608 , ..., 0.84705883,\n",
              "         0.5921569 , 0.48235294]],\n",
              "\n",
              "       [[0.24313726, 0.18039216, 0.1882353 , ..., 0.5176471 ,\n",
              "         0.49019608, 0.4862745 ],\n",
              "        [0.07843138, 0.        , 0.03137255, ..., 0.34509805,\n",
              "         0.3254902 , 0.34117648],\n",
              "        [0.09411765, 0.02745098, 0.10588235, ..., 0.32941177,\n",
              "         0.32941177, 0.28627452],\n",
              "        ...,\n",
              "        [0.6666667 , 0.6       , 0.6313726 , ..., 0.52156866,\n",
              "         0.12156863, 0.13333334],\n",
              "        [0.54509807, 0.48235294, 0.5647059 , ..., 0.5803922 ,\n",
              "         0.24313726, 0.20784314],\n",
              "        [0.5647059 , 0.5058824 , 0.5568628 , ..., 0.72156864,\n",
              "         0.4627451 , 0.36078432]],\n",
              "\n",
              "       [[0.24705882, 0.1764706 , 0.16862746, ..., 0.42352942,\n",
              "         0.4       , 0.40392157],\n",
              "        [0.07843138, 0.        , 0.        , ..., 0.21568628,\n",
              "         0.19607843, 0.22352941],\n",
              "        [0.08235294, 0.        , 0.03137255, ..., 0.19607843,\n",
              "         0.19607843, 0.16470589],\n",
              "        ...,\n",
              "        [0.3764706 , 0.13333334, 0.10196079, ..., 0.27450982,\n",
              "         0.02745098, 0.07843138],\n",
              "        [0.3764706 , 0.16470589, 0.11764706, ..., 0.36862746,\n",
              "         0.13333334, 0.13333334],\n",
              "        [0.45490196, 0.36862746, 0.34117648, ..., 0.54901963,\n",
              "         0.32941177, 0.28235295]]], dtype=float32)"
            ]
          },
          "metadata": {
            "tags": []
          },
          "execution_count": 62
        }
      ]
    },
    {
      "cell_type": "code",
      "metadata": {
        "colab": {
          "base_uri": "https://localhost:8080/"
        },
        "id": "aL3REdr8xfKe",
        "outputId": "fa44efac-9d1c-4f0b-d941-7dfa9448fc9d"
      },
      "source": [
        "img_arr.shape"
      ],
      "execution_count": 63,
      "outputs": [
        {
          "output_type": "execute_result",
          "data": {
            "text/plain": [
              "(3, 32, 32)"
            ]
          },
          "metadata": {
            "tags": []
          },
          "execution_count": 63
        }
      ]
    },
    {
      "cell_type": "markdown",
      "metadata": {
        "id": "u5CF47sJzN2u"
      },
      "source": [
        "### Vizualizing the data"
      ]
    },
    {
      "cell_type": "code",
      "metadata": {
        "id": "AtkmTUhzx1xQ"
      },
      "source": [
        "def imshow(img):\r\n",
        "    img = img / 2 + 0.5     # unnormalize\r\n",
        "    npimg = img.numpy()\r\n",
        "    plt.imshow(np.transpose(npimg, (1, 2, 0)))\r\n",
        "    plt.show()"
      ],
      "execution_count": 64,
      "outputs": []
    },
    {
      "cell_type": "code",
      "metadata": {
        "colab": {
          "base_uri": "https://localhost:8080/",
          "height": 286
        },
        "id": "3pR6qAUgylE9",
        "outputId": "12aba115-7c78-40dd-b8e8-63a56e0b5d6c"
      },
      "source": [
        "# get some random training images\r\n",
        "dataiter = iter(train_loader)\r\n",
        "images, labels = dataiter.next()\r\n",
        "\r\n",
        "# show images\r\n",
        "imshow(torchvision.utils.make_grid(images))\r\n",
        "# print labels\r\n",
        "print(' '.join('%5s' % classes[labels[j]] for j in range(4)))"
      ],
      "execution_count": 65,
      "outputs": [
        {
          "output_type": "display_data",
          "data": {
            "image/png": "[encoded data removed]",
            "text/plain": [
              "<Figure size 432x288 with 1 Axes>"
            ]
          },
          "metadata": {
            "tags": [],
            "needs_background": "light"
          }
        },
        {
          "output_type": "stream",
          "text": [
            "  car   cat   cat  frog\n"
          ],
          "name": "stdout"
        }
      ]
    },
    {
      "cell_type": "markdown",
      "metadata": {
        "id": "ONyKXDQO9kJV"
      },
      "source": [
        "## Setting up the Hyper parameters"
      ]
    },
    {
      "cell_type": "code",
      "metadata": {
        "id": "-xbZ82_BmFSY"
      },
      "source": [
        "\n",
        "# Hyper parameters\n",
        "num_epochs = 20\n",
        "num_classes = 10\n",
        "learning_rate = 0.001\n"
      ],
      "execution_count": 67,
      "outputs": []
    },
    {
      "cell_type": "markdown",
      "metadata": {
        "id": "Nl7_UVk8Fbl1"
      },
      "source": [
        "### Creating conv network"
      ]
    },
    {
      "cell_type": "code",
      "metadata": {
        "id": "e_2gZ6lzmRQ3"
      },
      "source": [
        "class ConvNet(nn.Module):\n",
        "    def __init__(self, num_classes=10):\n",
        "        super(ConvNet, self).__init__()\n",
        "        self.layer1 = nn.Sequential(\n",
        "            nn.Conv2d(3, 16, kernel_size=3, stride=1),\n",
        "            nn.BatchNorm2d(16),\n",
        "            nn.ReLU(),\n",
        "            nn.MaxPool2d(kernel_size=2, stride=2))\n",
        "        self.layer2 = nn.Sequential(\n",
        "            nn.Conv2d(16, 32, kernel_size=3, stride=1),\n",
        "            nn.BatchNorm2d(32),\n",
        "            nn.ReLU(),\n",
        "            nn.MaxPool2d(kernel_size=2, stride=2))\n",
        "        self.layer3 = nn.Sequential(\n",
        "            nn.Conv2d(32, 64, kernel_size=3, stride=1),\n",
        "            nn.BatchNorm2d(64),\n",
        "            nn.ReLU(),\n",
        "            nn.MaxPool2d(kernel_size=2, stride=2))\n",
        "        \n",
        "        self.fc = nn.Linear(4*4*64, num_classes)\n",
        "        \n",
        "        \n",
        "    def forward(self, x):\n",
        "        out = F.pad(x, (1, 1, 1, 1))\n",
        "        out = self.layer1(out)\n",
        "        out = F.pad(out, (1, 1, 1, 1))\n",
        "        out = self.layer2(out)\n",
        "        out = F.pad(out, (1, 1, 1, 1))\n",
        "        out = self.layer3(out)\n",
        "        out = out.reshape(out.size(0), -1)\n",
        "        out = self.fc(out)\n",
        "        return out\n"
      ],
      "execution_count": 68,
      "outputs": []
    },
    {
      "cell_type": "code",
      "metadata": {
        "id": "4xPRoZ7RmVuQ"
      },
      "source": [
        "model = ConvNet(num_classes).to(device)"
      ],
      "execution_count": 69,
      "outputs": []
    },
    {
      "cell_type": "markdown",
      "metadata": {
        "id": "CuNQ3Yt79zVg"
      },
      "source": [
        "### Applying Optimizer to minimize loss function"
      ]
    },
    {
      "cell_type": "code",
      "metadata": {
        "id": "HriR9mAqmZDs"
      },
      "source": [
        "# Loss and optimizer\n",
        "criterion = nn.CrossEntropyLoss()\n",
        "optimizer = torch.optim.Adam(model.parameters(), lr=learning_rate)\n"
      ],
      "execution_count": 70,
      "outputs": []
    },
    {
      "cell_type": "code",
      "metadata": {
        "colab": {
          "base_uri": "https://localhost:8080/"
        },
        "id": "Rtn8LChxmcTn",
        "outputId": "a13f9e2e-97b7-4a61-b736-a77a247614c1"
      },
      "source": [
        "total_step = len(train_loader)\n",
        "for epoch in range(num_epochs):\n",
        "    for i, (images, labels) in enumerate(train_loader):\n",
        "        images = images.to(device)\n",
        "        labels = labels.to(device)\n",
        "        \n",
        "        # Forward pass\n",
        "        outputs = model(images)\n",
        "        loss = criterion(outputs, labels)\n",
        "        \n",
        "        # Backward and optimize\n",
        "        optimizer.zero_grad()\n",
        "        loss.backward()\n",
        "        optimizer.step()\n",
        "        \n",
        "        if (i+1) % 100 == 0:\n",
        "            print ('Epoch [{}/{}], Step [{}/{}], Loss: {:.4f}' \n",
        "                   .format(epoch+1, num_epochs, i+1, total_step, loss.item()))\n"
      ],
      "execution_count": 71,
      "outputs": [
        {
          "output_type": "stream",
          "text": [
            "Epoch [1/20], Step [100/125], Loss: 1.2819\n",
            "Epoch [2/20], Step [100/125], Loss: 1.0266\n",
            "Epoch [3/20], Step [100/125], Loss: 0.8767\n",
            "Epoch [4/20], Step [100/125], Loss: 0.8530\n",
            "Epoch [5/20], Step [100/125], Loss: 0.8512\n",
            "Epoch [6/20], Step [100/125], Loss: 0.8853\n",
            "Epoch [7/20], Step [100/125], Loss: 0.6937\n",
            "Epoch [8/20], Step [100/125], Loss: 0.8211\n",
            "Epoch [9/20], Step [100/125], Loss: 0.6317\n",
            "Epoch [10/20], Step [100/125], Loss: 0.5411\n",
            "Epoch [11/20], Step [100/125], Loss: 0.6416\n",
            "Epoch [12/20], Step [100/125], Loss: 0.4802\n",
            "Epoch [13/20], Step [100/125], Loss: 0.5914\n",
            "Epoch [14/20], Step [100/125], Loss: 0.5481\n",
            "Epoch [15/20], Step [100/125], Loss: 0.6015\n",
            "Epoch [16/20], Step [100/125], Loss: 0.4913\n",
            "Epoch [17/20], Step [100/125], Loss: 0.5414\n",
            "Epoch [18/20], Step [100/125], Loss: 0.5353\n",
            "Epoch [19/20], Step [100/125], Loss: 0.4325\n",
            "Epoch [20/20], Step [100/125], Loss: 0.4769\n"
          ],
          "name": "stdout"
        }
      ]
    },
    {
      "cell_type": "code",
      "metadata": {
        "colab": {
          "base_uri": "https://localhost:8080/"
        },
        "id": "Namr2rZMmhak",
        "outputId": "b55844ea-c682-40e1-f825-b8ec14f3d6d2"
      },
      "source": [
        "# Test the model\n",
        "model.eval()  # eval mode (batchnorm uses moving mean/variance instead of mini-batch mean/variance)\n",
        "with torch.no_grad():\n",
        "    correct = 0\n",
        "    total = 0\n",
        "    for images, labels in test_loader:\n",
        "        images = images.to(device)\n",
        "        labels = labels.to(device)\n",
        "        outputs = model(images)\n",
        "        _, predicted = torch.max(outputs.data, 1)\n",
        "        total += labels.size(0)\n",
        "        correct += (predicted == labels).sum().item()\n",
        "\n",
        "    print('Test Accuracy of the model on the 10000 test images: {} %'.format(100 * correct / total))\n"
      ],
      "execution_count": 72,
      "outputs": [
        {
          "output_type": "stream",
          "text": [
            "Test Accuracy of the model on the 10000 test images: 72.41 %\n"
          ],
          "name": "stdout"
        }
      ]
    },
    {
      "cell_type": "code",
      "metadata": {
        "id": "Z9tcFy9cmx2P"
      },
      "source": [
        "\n",
        "torch.save(model.state_dict(), 'model.ckpt')"
      ],
      "execution_count": 73,
      "outputs": []
    },
    {
      "cell_type": "code",
      "metadata": {
        "id": "Ggps0Nvv_0Db"
      },
      "source": [
        ""
      ],
      "execution_count": null,
      "outputs": []
    }
  ]
}