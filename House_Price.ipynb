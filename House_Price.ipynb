{
  "nbformat": 4,
  "nbformat_minor": 0,
  "metadata": {
    "colab": {
      "name": "House Price.ipynb",
      "provenance": [],
      "authorship_tag": "ABX9TyMjURRNcW63k9JlmPRnq9qA",
      "include_colab_link": true
    },
    "kernelspec": {
      "name": "python3",
      "display_name": "Python 3"
    },
    "accelerator": "GPU"
  },
  "cells": [
    {
      "cell_type": "markdown",
      "metadata": {
        "id": "view-in-github",
        "colab_type": "text"
      },
      "source": [
        "<a href=\"https://colab.research.google.com/github/BossAyush07/Deep-Learning-Projects/blob/master/House_Price.ipynb\" target=\"_parent\"><img src=\"https://colab.research.google.com/assets/colab-badge.svg\" alt=\"Open In Colab\"/></a>"
      ]
    },
    {
      "cell_type": "markdown",
      "metadata": {
        "id": "4RipS5k-9I2E",
        "colab_type": "text"
      },
      "source": [
        "importing libraries\n"
      ]
    },
    {
      "cell_type": "code",
      "metadata": {
        "id": "kHHKQ7hTtuou",
        "colab_type": "code",
        "colab": {}
      },
      "source": [
        "import numpy as np\n",
        "import pandas as pd\n",
        "import matplotlib.pyplot as plt"
      ],
      "execution_count": 2,
      "outputs": []
    },
    {
      "cell_type": "code",
      "metadata": {
        "id": "gChV0oTtt1pc",
        "colab_type": "code",
        "colab": {
          "base_uri": "https://localhost:8080/",
          "height": 363
        },
        "outputId": "e2926040-4404-4aaa-ff7c-a1c6ad42be59"
      },
      "source": [
        "# Importing the dataset\n",
        "dataset = pd.read_csv('train.csv')\n",
        "dataset.head(10)"
      ],
      "execution_count": 3,
      "outputs": [
        {
          "output_type": "execute_result",
          "data": {
            "text/html": [
              "<div>\n",
              "<style scoped>\n",
              "    .dataframe tbody tr th:only-of-type {\n",
              "        vertical-align: middle;\n",
              "    }\n",
              "\n",
              "    .dataframe tbody tr th {\n",
              "        vertical-align: top;\n",
              "    }\n",
              "\n",
              "    .dataframe thead th {\n",
              "        text-align: right;\n",
              "    }\n",
              "</style>\n",
              "<table border=\"1\" class=\"dataframe\">\n",
              "  <thead>\n",
              "    <tr style=\"text-align: right;\">\n",
              "      <th></th>\n",
              "      <th>id</th>\n",
              "      <th>date</th>\n",
              "      <th>price</th>\n",
              "      <th>bedrooms</th>\n",
              "      <th>bathrooms</th>\n",
              "      <th>sqft_living</th>\n",
              "      <th>sqft_lot</th>\n",
              "      <th>floors</th>\n",
              "      <th>waterfront</th>\n",
              "      <th>view</th>\n",
              "      <th>condition</th>\n",
              "      <th>grade</th>\n",
              "      <th>sqft_above</th>\n",
              "      <th>sqft_basement</th>\n",
              "      <th>yr_built</th>\n",
              "      <th>yr_renovated</th>\n",
              "      <th>zipcode</th>\n",
              "      <th>lat</th>\n",
              "      <th>long</th>\n",
              "      <th>sqft_living15</th>\n",
              "      <th>sqft_lot15</th>\n",
              "    </tr>\n",
              "  </thead>\n",
              "  <tbody>\n",
              "    <tr>\n",
              "      <th>0</th>\n",
              "      <td>2487200875</td>\n",
              "      <td>20141209T000000</td>\n",
              "      <td>604000.0</td>\n",
              "      <td>4</td>\n",
              "      <td>3.00</td>\n",
              "      <td>1960</td>\n",
              "      <td>5000</td>\n",
              "      <td>1.0</td>\n",
              "      <td>0</td>\n",
              "      <td>0</td>\n",
              "      <td>5</td>\n",
              "      <td>7</td>\n",
              "      <td>1050</td>\n",
              "      <td>910</td>\n",
              "      <td>1965</td>\n",
              "      <td>0</td>\n",
              "      <td>98136</td>\n",
              "      <td>47.5208</td>\n",
              "      <td>-122.393</td>\n",
              "      <td>1360</td>\n",
              "      <td>5000</td>\n",
              "    </tr>\n",
              "    <tr>\n",
              "      <th>1</th>\n",
              "      <td>7237550310</td>\n",
              "      <td>20140512T000000</td>\n",
              "      <td>1230000.0</td>\n",
              "      <td>4</td>\n",
              "      <td>4.50</td>\n",
              "      <td>5420</td>\n",
              "      <td>101930</td>\n",
              "      <td>1.0</td>\n",
              "      <td>0</td>\n",
              "      <td>0</td>\n",
              "      <td>3</td>\n",
              "      <td>11</td>\n",
              "      <td>3890</td>\n",
              "      <td>1530</td>\n",
              "      <td>2001</td>\n",
              "      <td>0</td>\n",
              "      <td>98053</td>\n",
              "      <td>47.6561</td>\n",
              "      <td>-122.005</td>\n",
              "      <td>4760</td>\n",
              "      <td>101930</td>\n",
              "    </tr>\n",
              "    <tr>\n",
              "      <th>2</th>\n",
              "      <td>9212900260</td>\n",
              "      <td>20140527T000000</td>\n",
              "      <td>468000.0</td>\n",
              "      <td>2</td>\n",
              "      <td>1.00</td>\n",
              "      <td>1160</td>\n",
              "      <td>6000</td>\n",
              "      <td>1.0</td>\n",
              "      <td>0</td>\n",
              "      <td>0</td>\n",
              "      <td>4</td>\n",
              "      <td>7</td>\n",
              "      <td>860</td>\n",
              "      <td>300</td>\n",
              "      <td>1942</td>\n",
              "      <td>0</td>\n",
              "      <td>98115</td>\n",
              "      <td>47.6900</td>\n",
              "      <td>-122.292</td>\n",
              "      <td>1330</td>\n",
              "      <td>6000</td>\n",
              "    </tr>\n",
              "    <tr>\n",
              "      <th>3</th>\n",
              "      <td>114101516</td>\n",
              "      <td>20140528T000000</td>\n",
              "      <td>310000.0</td>\n",
              "      <td>3</td>\n",
              "      <td>1.00</td>\n",
              "      <td>1430</td>\n",
              "      <td>19901</td>\n",
              "      <td>1.5</td>\n",
              "      <td>0</td>\n",
              "      <td>0</td>\n",
              "      <td>4</td>\n",
              "      <td>7</td>\n",
              "      <td>1430</td>\n",
              "      <td>0</td>\n",
              "      <td>1927</td>\n",
              "      <td>0</td>\n",
              "      <td>98028</td>\n",
              "      <td>47.7558</td>\n",
              "      <td>-122.229</td>\n",
              "      <td>1780</td>\n",
              "      <td>12697</td>\n",
              "    </tr>\n",
              "    <tr>\n",
              "      <th>4</th>\n",
              "      <td>6054650070</td>\n",
              "      <td>20141007T000000</td>\n",
              "      <td>400000.0</td>\n",
              "      <td>3</td>\n",
              "      <td>1.75</td>\n",
              "      <td>1370</td>\n",
              "      <td>9680</td>\n",
              "      <td>1.0</td>\n",
              "      <td>0</td>\n",
              "      <td>0</td>\n",
              "      <td>4</td>\n",
              "      <td>7</td>\n",
              "      <td>1370</td>\n",
              "      <td>0</td>\n",
              "      <td>1977</td>\n",
              "      <td>0</td>\n",
              "      <td>98074</td>\n",
              "      <td>47.6127</td>\n",
              "      <td>-122.045</td>\n",
              "      <td>1370</td>\n",
              "      <td>10208</td>\n",
              "    </tr>\n",
              "    <tr>\n",
              "      <th>5</th>\n",
              "      <td>9297300055</td>\n",
              "      <td>20150124T000000</td>\n",
              "      <td>650000.0</td>\n",
              "      <td>4</td>\n",
              "      <td>3.00</td>\n",
              "      <td>2950</td>\n",
              "      <td>5000</td>\n",
              "      <td>2.0</td>\n",
              "      <td>0</td>\n",
              "      <td>3</td>\n",
              "      <td>3</td>\n",
              "      <td>9</td>\n",
              "      <td>1980</td>\n",
              "      <td>970</td>\n",
              "      <td>1979</td>\n",
              "      <td>0</td>\n",
              "      <td>98126</td>\n",
              "      <td>47.5714</td>\n",
              "      <td>-122.375</td>\n",
              "      <td>2140</td>\n",
              "      <td>4000</td>\n",
              "    </tr>\n",
              "    <tr>\n",
              "      <th>6</th>\n",
              "      <td>6865200140</td>\n",
              "      <td>20140529T000000</td>\n",
              "      <td>485000.0</td>\n",
              "      <td>4</td>\n",
              "      <td>1.00</td>\n",
              "      <td>1600</td>\n",
              "      <td>4300</td>\n",
              "      <td>1.5</td>\n",
              "      <td>0</td>\n",
              "      <td>0</td>\n",
              "      <td>4</td>\n",
              "      <td>7</td>\n",
              "      <td>1600</td>\n",
              "      <td>0</td>\n",
              "      <td>1916</td>\n",
              "      <td>0</td>\n",
              "      <td>98103</td>\n",
              "      <td>47.6648</td>\n",
              "      <td>-122.343</td>\n",
              "      <td>1610</td>\n",
              "      <td>4300</td>\n",
              "    </tr>\n",
              "    <tr>\n",
              "      <th>7</th>\n",
              "      <td>6300500875</td>\n",
              "      <td>20140514T000000</td>\n",
              "      <td>385000.0</td>\n",
              "      <td>4</td>\n",
              "      <td>1.75</td>\n",
              "      <td>1620</td>\n",
              "      <td>4980</td>\n",
              "      <td>1.0</td>\n",
              "      <td>0</td>\n",
              "      <td>0</td>\n",
              "      <td>4</td>\n",
              "      <td>7</td>\n",
              "      <td>860</td>\n",
              "      <td>760</td>\n",
              "      <td>1947</td>\n",
              "      <td>0</td>\n",
              "      <td>98133</td>\n",
              "      <td>47.7025</td>\n",
              "      <td>-122.341</td>\n",
              "      <td>1400</td>\n",
              "      <td>4980</td>\n",
              "    </tr>\n",
              "    <tr>\n",
              "      <th>8</th>\n",
              "      <td>7137970340</td>\n",
              "      <td>20140703T000000</td>\n",
              "      <td>285000.0</td>\n",
              "      <td>5</td>\n",
              "      <td>2.50</td>\n",
              "      <td>2270</td>\n",
              "      <td>6300</td>\n",
              "      <td>2.0</td>\n",
              "      <td>0</td>\n",
              "      <td>0</td>\n",
              "      <td>3</td>\n",
              "      <td>8</td>\n",
              "      <td>2270</td>\n",
              "      <td>0</td>\n",
              "      <td>1995</td>\n",
              "      <td>0</td>\n",
              "      <td>98092</td>\n",
              "      <td>47.3266</td>\n",
              "      <td>-122.169</td>\n",
              "      <td>2240</td>\n",
              "      <td>7005</td>\n",
              "    </tr>\n",
              "    <tr>\n",
              "      <th>9</th>\n",
              "      <td>8091400200</td>\n",
              "      <td>20140516T000000</td>\n",
              "      <td>252700.0</td>\n",
              "      <td>2</td>\n",
              "      <td>1.50</td>\n",
              "      <td>1070</td>\n",
              "      <td>9643</td>\n",
              "      <td>1.0</td>\n",
              "      <td>0</td>\n",
              "      <td>0</td>\n",
              "      <td>3</td>\n",
              "      <td>7</td>\n",
              "      <td>1070</td>\n",
              "      <td>0</td>\n",
              "      <td>1985</td>\n",
              "      <td>0</td>\n",
              "      <td>98030</td>\n",
              "      <td>47.3533</td>\n",
              "      <td>-122.166</td>\n",
              "      <td>1220</td>\n",
              "      <td>8386</td>\n",
              "    </tr>\n",
              "  </tbody>\n",
              "</table>\n",
              "</div>"
            ],
            "text/plain": [
              "           id             date      price  ...     long  sqft_living15  sqft_lot15\n",
              "0  2487200875  20141209T000000   604000.0  ... -122.393           1360        5000\n",
              "1  7237550310  20140512T000000  1230000.0  ... -122.005           4760      101930\n",
              "2  9212900260  20140527T000000   468000.0  ... -122.292           1330        6000\n",
              "3   114101516  20140528T000000   310000.0  ... -122.229           1780       12697\n",
              "4  6054650070  20141007T000000   400000.0  ... -122.045           1370       10208\n",
              "5  9297300055  20150124T000000   650000.0  ... -122.375           2140        4000\n",
              "6  6865200140  20140529T000000   485000.0  ... -122.343           1610        4300\n",
              "7  6300500875  20140514T000000   385000.0  ... -122.341           1400        4980\n",
              "8  7137970340  20140703T000000   285000.0  ... -122.169           2240        7005\n",
              "9  8091400200  20140516T000000   252700.0  ... -122.166           1220        8386\n",
              "\n",
              "[10 rows x 21 columns]"
            ]
          },
          "metadata": {
            "tags": []
          },
          "execution_count": 3
        }
      ]
    },
    {
      "cell_type": "markdown",
      "metadata": {
        "id": "Nf1Zv1iD87rB",
        "colab_type": "text"
      },
      "source": [
        "vizualizing\n"
      ]
    },
    {
      "cell_type": "code",
      "metadata": {
        "id": "zOHiS-AruGsr",
        "colab_type": "code",
        "colab": {
          "base_uri": "https://localhost:8080/",
          "height": 514
        },
        "outputId": "734cf416-594f-4494-daf3-4ebde5cb7489"
      },
      "source": [
        "#visualizing the correlation between different features\n",
        "import seaborn as sns\n",
        "corr = dataset.corr(method='spearman')\n",
        "\n",
        "# Generate a mask for the upper triangle\n",
        "mask = np.zeros_like(corr, dtype=np.bool)\n",
        "mask[np.triu_indices_from(mask)] = True\n",
        "\n",
        "# Set up the matplotlib figure\n",
        "fig, ax = plt.subplots(figsize=(8, 7))\n",
        "\n",
        "# Generate a custom diverging colormap\n",
        "cmap = sns.diverging_palette(220, 10, as_cmap=True, sep=100)\n",
        "\n",
        "# Draw the heatmap with the mask and correct aspect ratio\n",
        "sns.heatmap(corr, mask=mask, cmap=cmap, vmin=-1, vmax=1, center=0, linewidths=.5)\n",
        "\n",
        "fig.suptitle('Correlation matrix of features', fontsize=15)\n",
        "\n",
        "fig.tight_layout()"
      ],
      "execution_count": 12,
      "outputs": [
        {
          "output_type": "display_data",
          "data": {
            "image/png": "[encoded data removed]",
            "text/plain": [
              "<Figure size 576x504 with 2 Axes>"
            ]
          },
          "metadata": {
            "tags": [],
            "needs_background": "light"
          }
        }
      ]
    },
    {
      "cell_type": "code",
      "metadata": {
        "id": "c27lQkKuuNk7",
        "colab_type": "code",
        "colab": {}
      },
      "source": [
        "#removing varibles with minimum correlation\n",
        "#more the correlation more the particular feature impacts the final output of the model\n",
        "y=dataset.iloc[:,2].values\n",
        "x=dataset.iloc[:,[4,5,11,12,19,3,13,9,17,7,8]].values"
      ],
      "execution_count": 14,
      "outputs": []
    },
    {
      "cell_type": "code",
      "metadata": {
        "id": "01t8JNyNulXA",
        "colab_type": "code",
        "colab": {
          "base_uri": "https://localhost:8080/",
          "height": 34
        },
        "outputId": "601ccfa4-58ee-467e-bd2f-a16c0cba5766"
      },
      "source": [
        "#importing the linear regression form sklearn\n",
        "from sklearn.linear_model import LinearRegression\n",
        "lin_reg = LinearRegression()\n",
        "lin_reg.fit(x, y)"
      ],
      "execution_count": 15,
      "outputs": [
        {
          "output_type": "execute_result",
          "data": {
            "text/plain": [
              "LinearRegression(copy_X=True, fit_intercept=True, n_jobs=None, normalize=False)"
            ]
          },
          "metadata": {
            "tags": []
          },
          "execution_count": 15
        }
      ]
    },
    {
      "cell_type": "code",
      "metadata": {
        "id": "7bYTrYzguvB5",
        "colab_type": "code",
        "colab": {
          "base_uri": "https://localhost:8080/",
          "height": 34
        },
        "outputId": "f3a3f695-b2eb-4fe2-b275-c71e1a090b03"
      },
      "source": [
        "#using polynomial regression\n",
        "from sklearn.preprocessing import PolynomialFeatures\n",
        "poly_reg=PolynomialFeatures(degree=2)\n",
        "x_poly=poly_reg.fit_transform(x)\n",
        "poly_reg.fit(x_poly, y)\n",
        "lin_reg_2 = LinearRegression()\n",
        "lin_reg_2.fit(x_poly, y)"
      ],
      "execution_count": 16,
      "outputs": [
        {
          "output_type": "execute_result",
          "data": {
            "text/plain": [
              "LinearRegression(copy_X=True, fit_intercept=True, n_jobs=None, normalize=False)"
            ]
          },
          "metadata": {
            "tags": []
          },
          "execution_count": 16
        }
      ]
    },
    {
      "cell_type": "code",
      "metadata": {
        "id": "F5bCYDV6u2YA",
        "colab_type": "code",
        "colab": {}
      },
      "source": [
        "#importing the test set\n",
        "test_set=pd.read_csv('test.csv')\n",
        "y_true=test_set.iloc[:,2].values\n",
        "x_test=test_set.iloc[:,[4,5,11,12,19,3,13,9,17,7,8]].values"
      ],
      "execution_count": 21,
      "outputs": []
    },
    {
      "cell_type": "code",
      "metadata": {
        "id": "VRaax5juvQBC",
        "colab_type": "code",
        "colab": {
          "base_uri": "https://localhost:8080/",
          "height": 50
        },
        "outputId": "7f087ad1-802c-4023-d35a-3ac75c1d8752"
      },
      "source": [
        "#predicting result with linear regression\n",
        "y_pred=lin_reg.predict(x_test)\n",
        "print(y_pred)"
      ],
      "execution_count": 22,
      "outputs": [
        {
          "output_type": "stream",
          "text": [
            "[288739.36481426 449614.39945157 173693.17240844 ... 638576.32700739\n",
            " 353499.60732368 466245.29303683]\n"
          ],
          "name": "stdout"
        }
      ]
    },
    {
      "cell_type": "code",
      "metadata": {
        "id": "lffSQ-93v0Ut",
        "colab_type": "code",
        "colab": {
          "base_uri": "https://localhost:8080/",
          "height": 50
        },
        "outputId": "6a55266b-10f8-4b22-9102-89ab8815d1a2"
      },
      "source": [
        "# Predicting a new result with Polynomial Regression\n",
        "y_pred2=lin_reg_2.predict(poly_reg.fit_transform(x_test))\n",
        "print(y_pred2)"
      ],
      "execution_count": 23,
      "outputs": [
        {
          "output_type": "stream",
          "text": [
            "[290107.39481735 455639.25888157 153286.02842617 ... 659905.57199383\n",
            " 477977.82979679 500331.91427326]\n"
          ],
          "name": "stdout"
        }
      ]
    },
    {
      "cell_type": "code",
      "metadata": {
        "id": "uND-8P4gv4nk",
        "colab_type": "code",
        "colab": {
          "base_uri": "https://localhost:8080/",
          "height": 50
        },
        "outputId": "594ec66c-54e1-414a-f199-a33ad894c93b"
      },
      "source": [
        "#using r2 score as metrics to compare\n",
        "from sklearn.metrics import r2_score\n",
        "linear_r2=r2_score(y_true,y_pred)\n",
        "poly_r2=r2_score(y_true,y_pred2)\n",
        "print(linear_r2)\n",
        "print(poly_r2)"
      ],
      "execution_count": 24,
      "outputs": [
        {
          "output_type": "stream",
          "text": [
            "0.6498099086995488\n",
            "0.7191545378671722\n"
          ],
          "name": "stdout"
        }
      ]
    },
    {
      "cell_type": "code",
      "metadata": {
        "id": "s7nkdoiLv7HH",
        "colab_type": "code",
        "colab": {}
      },
      "source": [
        ""
      ],
      "execution_count": null,
      "outputs": []
    }
  ]
}