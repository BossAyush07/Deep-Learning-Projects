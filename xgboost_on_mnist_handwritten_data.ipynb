{
  "nbformat": 4,
  "nbformat_minor": 0,
  "metadata": {
    "colab": {
      "name": "xgboost_on_mnist_handwritten_data.ipynb",
      "provenance": [],
      "authorship_tag": "ABX9TyO4NXDTaAHlguDE1796l8Ny",
      "include_colab_link": true
    },
    "kernelspec": {
      "name": "python3",
      "display_name": "Python 3"
    },
    "accelerator": "GPU"
  },
  "cells": [
    {
      "cell_type": "markdown",
      "metadata": {
        "id": "view-in-github",
        "colab_type": "text"
      },
      "source": [
        "<a href=\"https://colab.research.google.com/github/BossAyush07/Deep-Learning-Projects/blob/master/xgboost_on_mnist_handwritten_data.ipynb\" target=\"_parent\"><img src=\"https://colab.research.google.com/assets/colab-badge.svg\" alt=\"Open In Colab\"/></a>"
      ]
    },
    {
      "cell_type": "markdown",
      "metadata": {
        "id": "RBFNkNhoXIsr"
      },
      "source": [
        "## IMPORTING IMPORTANT LIBRARIES"
      ]
    },
    {
      "cell_type": "code",
      "metadata": {
        "id": "CfjP5Ht3WY8P"
      },
      "source": [
        "from keras.datasets import mnist\n",
        "from matplotlib import pyplot\n",
        "import numpy as np\n",
        "import pandas as pd"
      ],
      "execution_count": 1,
      "outputs": []
    },
    {
      "cell_type": "markdown",
      "metadata": {
        "id": "6umuqMzLXiJx"
      },
      "source": [
        "## READING THE DATASET"
      ]
    },
    {
      "cell_type": "code",
      "metadata": {
        "id": "rW938WxAXgnk",
        "outputId": "f7fd9520-1b8d-4e82-e462-f7d9b3bc663e",
        "colab": {
          "base_uri": "https://localhost:8080/"
        }
      },
      "source": [
        "(x_train, y_train), (x_test, y_test) = mnist.load_data()"
      ],
      "execution_count": 2,
      "outputs": [
        {
          "output_type": "stream",
          "text": [
            "Downloading data from https://storage.googleapis.com/tensorflow/tf-keras-datasets/mnist.npz\n",
            "11493376/11490434 [==============================] - 0s 0us/step\n"
          ],
          "name": "stdout"
        }
      ]
    },
    {
      "cell_type": "code",
      "metadata": {
        "id": "YFRs_TRdX1RF",
        "outputId": "1785b224-52c5-476f-8549-8d3bfecaff09",
        "colab": {
          "base_uri": "https://localhost:8080/"
        }
      },
      "source": [
        "print(x_train.shape, x_test.shape)"
      ],
      "execution_count": 3,
      "outputs": [
        {
          "output_type": "stream",
          "text": [
            "(60000, 28, 28) (10000, 28, 28)\n"
          ],
          "name": "stdout"
        }
      ]
    },
    {
      "cell_type": "markdown",
      "metadata": {
        "id": "18-G2RV3YTYv"
      },
      "source": [
        "## RESHAPING THE DATASET"
      ]
    },
    {
      "cell_type": "code",
      "metadata": {
        "id": "udnNctm8YBGe",
        "outputId": "c983ae2c-4683-4258-ba1c-ff7f3a5d773c",
        "colab": {
          "base_uri": "https://localhost:8080/"
        }
      },
      "source": [
        "x_train = x_train.reshape(x_train.shape[0], 784)\n",
        "x_test = x_test.reshape(x_test.shape[0], 784)\n",
        "print(x_train.shape, x_test.shape)"
      ],
      "execution_count": 4,
      "outputs": [
        {
          "output_type": "stream",
          "text": [
            "(60000, 784) (10000, 784)\n"
          ],
          "name": "stdout"
        }
      ]
    },
    {
      "cell_type": "code",
      "metadata": {
        "id": "4HFEJOvYY-TH"
      },
      "source": [
        "from sklearn.preprocessing import StandardScaler\n",
        "sc = StandardScaler()"
      ],
      "execution_count": 5,
      "outputs": []
    },
    {
      "cell_type": "code",
      "metadata": {
        "id": "dyeeoqq8ZOyF",
        "outputId": "5014a0fd-b920-4976-e33b-f9d75788c3cd",
        "colab": {
          "base_uri": "https://localhost:8080/"
        }
      },
      "source": [
        "x_train_std = sc.fit_transform(x_train)\n",
        "x_test_std = sc.fit_transform(x_test)\n",
        "print(x_train_std.shape, x_test_std.shape)"
      ],
      "execution_count": 6,
      "outputs": [
        {
          "output_type": "stream",
          "text": [
            "(60000, 784) (10000, 784)\n"
          ],
          "name": "stdout"
        }
      ]
    },
    {
      "cell_type": "code",
      "metadata": {
        "id": "IIhKxqQuZ2sr"
      },
      "source": [
        "from sklearn.model_selection import train_test_split\n",
        "x_train_sub, x_test_sub, y_train_sub, y_test_sub = train_test_split(x_train_std, y_train, test_size=0.1)"
      ],
      "execution_count": 7,
      "outputs": []
    },
    {
      "cell_type": "code",
      "metadata": {
        "id": "zpzjgzuucFL3"
      },
      "source": [
        "import xgboost as xgb"
      ],
      "execution_count": 8,
      "outputs": []
    },
    {
      "cell_type": "code",
      "metadata": {
        "id": "jhwuRhXmcWps",
        "outputId": "f73bf049-ed77-4593-d867-8e21da67fc3d",
        "colab": {
          "base_uri": "https://localhost:8080/"
        }
      },
      "source": [
        "param_list = [(\"eta\", 0.08), (\"max_depth\", 6), (\"subsample\", 0.8), (\"colsample_bytree\", 0.8), (\"objective\", \"multi:softmax\"), (\"eval_metric\", \"merror\"), (\"alpha\", 8), (\"lambda\", 2), (\"num_class\", 10)]\n",
        "n_rounds = 600\n",
        "early_stopping = 50\n",
        "d_train = xgb.DMatrix(x_train_sub, label=y_train_sub)\n",
        "d_val = xgb.DMatrix(x_test_sub, label=y_test_sub)\n",
        "eval_list = [(d_train, \"train\"), (d_val, \"validation\")]\n",
        "\n",
        "bst = xgb.train(param_list, d_train, n_rounds, evals=eval_list, early_stopping_rounds=early_stopping, verbose_eval=True)"
      ],
      "execution_count": 9,
      "outputs": [
        {
          "output_type": "stream",
          "text": [
            "[0]\ttrain-merror:0.142963\tvalidation-merror:0.16\n",
            "Multiple eval metrics have been passed: 'validation-merror' will be used for early stopping.\n",
            "\n",
            "Will train until validation-merror hasn't improved in 50 rounds.\n",
            "[1]\ttrain-merror:0.110778\tvalidation-merror:0.126667\n",
            "[2]\ttrain-merror:0.096352\tvalidation-merror:0.111167\n",
            "[3]\ttrain-merror:0.090611\tvalidation-merror:0.105167\n",
            "[4]\ttrain-merror:0.087148\tvalidation-merror:0.102833\n",
            "[5]\ttrain-merror:0.084296\tvalidation-merror:0.102167\n",
            "[6]\ttrain-merror:0.082259\tvalidation-merror:0.100333\n",
            "[7]\ttrain-merror:0.079\tvalidation-merror:0.097333\n",
            "[8]\ttrain-merror:0.076796\tvalidation-merror:0.095\n",
            "[9]\ttrain-merror:0.074463\tvalidation-merror:0.092167\n",
            "[10]\ttrain-merror:0.072778\tvalidation-merror:0.089333\n",
            "[11]\ttrain-merror:0.071648\tvalidation-merror:0.0885\n",
            "[12]\ttrain-merror:0.069574\tvalidation-merror:0.0855\n",
            "[13]\ttrain-merror:0.068593\tvalidation-merror:0.083333\n",
            "[14]\ttrain-merror:0.066981\tvalidation-merror:0.081833\n",
            "[15]\ttrain-merror:0.065741\tvalidation-merror:0.081333\n",
            "[16]\ttrain-merror:0.064537\tvalidation-merror:0.079667\n",
            "[17]\ttrain-merror:0.063333\tvalidation-merror:0.077833\n",
            "[18]\ttrain-merror:0.062463\tvalidation-merror:0.076833\n",
            "[19]\ttrain-merror:0.061685\tvalidation-merror:0.075333\n",
            "[20]\ttrain-merror:0.060519\tvalidation-merror:0.0745\n",
            "[21]\ttrain-merror:0.059333\tvalidation-merror:0.073\n",
            "[22]\ttrain-merror:0.058519\tvalidation-merror:0.073667\n",
            "[23]\ttrain-merror:0.057741\tvalidation-merror:0.0735\n",
            "[24]\ttrain-merror:0.056907\tvalidation-merror:0.072\n",
            "[25]\ttrain-merror:0.056222\tvalidation-merror:0.070833\n",
            "[26]\ttrain-merror:0.055407\tvalidation-merror:0.069667\n",
            "[27]\ttrain-merror:0.053926\tvalidation-merror:0.067667\n",
            "[28]\ttrain-merror:0.053241\tvalidation-merror:0.066667\n",
            "[29]\ttrain-merror:0.052259\tvalidation-merror:0.065667\n",
            "[30]\ttrain-merror:0.0515\tvalidation-merror:0.0645\n",
            "[31]\ttrain-merror:0.050389\tvalidation-merror:0.0635\n",
            "[32]\ttrain-merror:0.049722\tvalidation-merror:0.062\n",
            "[33]\ttrain-merror:0.048944\tvalidation-merror:0.0625\n",
            "[34]\ttrain-merror:0.048537\tvalidation-merror:0.061667\n",
            "[35]\ttrain-merror:0.048037\tvalidation-merror:0.060667\n",
            "[36]\ttrain-merror:0.047278\tvalidation-merror:0.0595\n",
            "[37]\ttrain-merror:0.046685\tvalidation-merror:0.0585\n",
            "[38]\ttrain-merror:0.045926\tvalidation-merror:0.0575\n",
            "[39]\ttrain-merror:0.045241\tvalidation-merror:0.057167\n",
            "[40]\ttrain-merror:0.04437\tvalidation-merror:0.055667\n",
            "[41]\ttrain-merror:0.044\tvalidation-merror:0.055833\n",
            "[42]\ttrain-merror:0.04337\tvalidation-merror:0.055\n",
            "[43]\ttrain-merror:0.042685\tvalidation-merror:0.054667\n",
            "[44]\ttrain-merror:0.041778\tvalidation-merror:0.054\n",
            "[45]\ttrain-merror:0.041204\tvalidation-merror:0.053167\n",
            "[46]\ttrain-merror:0.040333\tvalidation-merror:0.053\n",
            "[47]\ttrain-merror:0.039889\tvalidation-merror:0.051833\n",
            "[48]\ttrain-merror:0.039574\tvalidation-merror:0.052167\n",
            "[49]\ttrain-merror:0.039037\tvalidation-merror:0.051833\n",
            "[50]\ttrain-merror:0.038407\tvalidation-merror:0.051167\n",
            "[51]\ttrain-merror:0.037759\tvalidation-merror:0.050833\n",
            "[52]\ttrain-merror:0.037111\tvalidation-merror:0.050333\n",
            "[53]\ttrain-merror:0.036852\tvalidation-merror:0.049833\n",
            "[54]\ttrain-merror:0.036278\tvalidation-merror:0.049833\n",
            "[55]\ttrain-merror:0.035759\tvalidation-merror:0.0485\n",
            "[56]\ttrain-merror:0.03537\tvalidation-merror:0.0485\n",
            "[57]\ttrain-merror:0.035352\tvalidation-merror:0.048167\n",
            "[58]\ttrain-merror:0.034741\tvalidation-merror:0.047167\n",
            "[59]\ttrain-merror:0.034278\tvalidation-merror:0.0475\n",
            "[60]\ttrain-merror:0.03387\tvalidation-merror:0.0465\n",
            "[61]\ttrain-merror:0.033444\tvalidation-merror:0.046333\n",
            "[62]\ttrain-merror:0.032926\tvalidation-merror:0.046\n",
            "[63]\ttrain-merror:0.032667\tvalidation-merror:0.046167\n",
            "[64]\ttrain-merror:0.032278\tvalidation-merror:0.045833\n",
            "[65]\ttrain-merror:0.031852\tvalidation-merror:0.0455\n",
            "[66]\ttrain-merror:0.031426\tvalidation-merror:0.045333\n",
            "[67]\ttrain-merror:0.031019\tvalidation-merror:0.044667\n",
            "[68]\ttrain-merror:0.030759\tvalidation-merror:0.044667\n",
            "[69]\ttrain-merror:0.030556\tvalidation-merror:0.044667\n",
            "[70]\ttrain-merror:0.030093\tvalidation-merror:0.0445\n",
            "[71]\ttrain-merror:0.029852\tvalidation-merror:0.044\n",
            "[72]\ttrain-merror:0.029315\tvalidation-merror:0.043333\n",
            "[73]\ttrain-merror:0.029148\tvalidation-merror:0.043167\n",
            "[74]\ttrain-merror:0.028722\tvalidation-merror:0.042667\n",
            "[75]\ttrain-merror:0.028093\tvalidation-merror:0.041833\n",
            "[76]\ttrain-merror:0.028037\tvalidation-merror:0.042\n",
            "[77]\ttrain-merror:0.027593\tvalidation-merror:0.041833\n",
            "[78]\ttrain-merror:0.027167\tvalidation-merror:0.0415\n",
            "[79]\ttrain-merror:0.026796\tvalidation-merror:0.041333\n",
            "[80]\ttrain-merror:0.026463\tvalidation-merror:0.0415\n",
            "[81]\ttrain-merror:0.026278\tvalidation-merror:0.041\n",
            "[82]\ttrain-merror:0.025907\tvalidation-merror:0.040667\n",
            "[83]\ttrain-merror:0.025648\tvalidation-merror:0.0405\n",
            "[84]\ttrain-merror:0.025389\tvalidation-merror:0.0405\n",
            "[85]\ttrain-merror:0.024963\tvalidation-merror:0.040167\n",
            "[86]\ttrain-merror:0.024796\tvalidation-merror:0.040333\n",
            "[87]\ttrain-merror:0.024407\tvalidation-merror:0.040333\n",
            "[88]\ttrain-merror:0.024093\tvalidation-merror:0.04\n",
            "[89]\ttrain-merror:0.023815\tvalidation-merror:0.0395\n",
            "[90]\ttrain-merror:0.023463\tvalidation-merror:0.039\n",
            "[91]\ttrain-merror:0.023241\tvalidation-merror:0.038667\n",
            "[92]\ttrain-merror:0.022981\tvalidation-merror:0.038667\n",
            "[93]\ttrain-merror:0.022537\tvalidation-merror:0.0385\n",
            "[94]\ttrain-merror:0.022259\tvalidation-merror:0.038\n",
            "[95]\ttrain-merror:0.021926\tvalidation-merror:0.037833\n",
            "[96]\ttrain-merror:0.021778\tvalidation-merror:0.0375\n",
            "[97]\ttrain-merror:0.021352\tvalidation-merror:0.0375\n",
            "[98]\ttrain-merror:0.021093\tvalidation-merror:0.037333\n",
            "[99]\ttrain-merror:0.020926\tvalidation-merror:0.037\n",
            "[100]\ttrain-merror:0.020685\tvalidation-merror:0.036667\n",
            "[101]\ttrain-merror:0.020463\tvalidation-merror:0.036333\n",
            "[102]\ttrain-merror:0.020315\tvalidation-merror:0.036333\n",
            "[103]\ttrain-merror:0.020111\tvalidation-merror:0.035833\n",
            "[104]\ttrain-merror:0.019981\tvalidation-merror:0.035833\n",
            "[105]\ttrain-merror:0.01963\tvalidation-merror:0.035667\n",
            "[106]\ttrain-merror:0.019481\tvalidation-merror:0.0355\n",
            "[107]\ttrain-merror:0.019315\tvalidation-merror:0.035167\n",
            "[108]\ttrain-merror:0.019074\tvalidation-merror:0.0355\n",
            "[109]\ttrain-merror:0.018926\tvalidation-merror:0.0355\n",
            "[110]\ttrain-merror:0.018685\tvalidation-merror:0.035167\n",
            "[111]\ttrain-merror:0.018352\tvalidation-merror:0.035167\n",
            "[112]\ttrain-merror:0.018167\tvalidation-merror:0.035167\n",
            "[113]\ttrain-merror:0.018037\tvalidation-merror:0.034833\n",
            "[114]\ttrain-merror:0.017907\tvalidation-merror:0.034167\n",
            "[115]\ttrain-merror:0.01787\tvalidation-merror:0.034167\n",
            "[116]\ttrain-merror:0.017685\tvalidation-merror:0.034\n",
            "[117]\ttrain-merror:0.017444\tvalidation-merror:0.034\n",
            "[118]\ttrain-merror:0.017222\tvalidation-merror:0.033833\n",
            "[119]\ttrain-merror:0.017074\tvalidation-merror:0.0335\n",
            "[120]\ttrain-merror:0.016796\tvalidation-merror:0.033\n",
            "[121]\ttrain-merror:0.016667\tvalidation-merror:0.033\n",
            "[122]\ttrain-merror:0.016444\tvalidation-merror:0.033\n",
            "[123]\ttrain-merror:0.016222\tvalidation-merror:0.033\n",
            "[124]\ttrain-merror:0.016093\tvalidation-merror:0.032333\n",
            "[125]\ttrain-merror:0.016056\tvalidation-merror:0.032333\n",
            "[126]\ttrain-merror:0.015944\tvalidation-merror:0.032167\n",
            "[127]\ttrain-merror:0.015704\tvalidation-merror:0.032167\n",
            "[128]\ttrain-merror:0.015519\tvalidation-merror:0.031833\n",
            "[129]\ttrain-merror:0.015389\tvalidation-merror:0.031667\n",
            "[130]\ttrain-merror:0.015167\tvalidation-merror:0.031833\n",
            "[131]\ttrain-merror:0.015074\tvalidation-merror:0.031833\n",
            "[132]\ttrain-merror:0.014889\tvalidation-merror:0.031667\n",
            "[133]\ttrain-merror:0.014815\tvalidation-merror:0.032\n",
            "[134]\ttrain-merror:0.014667\tvalidation-merror:0.032\n",
            "[135]\ttrain-merror:0.014407\tvalidation-merror:0.031667\n",
            "[136]\ttrain-merror:0.014222\tvalidation-merror:0.031667\n",
            "[137]\ttrain-merror:0.014093\tvalidation-merror:0.0315\n",
            "[138]\ttrain-merror:0.013907\tvalidation-merror:0.031667\n",
            "[139]\ttrain-merror:0.013815\tvalidation-merror:0.0315\n",
            "[140]\ttrain-merror:0.013648\tvalidation-merror:0.031667\n",
            "[141]\ttrain-merror:0.013537\tvalidation-merror:0.0315\n",
            "[142]\ttrain-merror:0.013333\tvalidation-merror:0.031\n",
            "[143]\ttrain-merror:0.01313\tvalidation-merror:0.031\n",
            "[144]\ttrain-merror:0.013074\tvalidation-merror:0.031\n",
            "[145]\ttrain-merror:0.012889\tvalidation-merror:0.0305\n",
            "[146]\ttrain-merror:0.012611\tvalidation-merror:0.0305\n",
            "[147]\ttrain-merror:0.012444\tvalidation-merror:0.0305\n",
            "[148]\ttrain-merror:0.012352\tvalidation-merror:0.030167\n",
            "[149]\ttrain-merror:0.012185\tvalidation-merror:0.030667\n",
            "[150]\ttrain-merror:0.011963\tvalidation-merror:0.0305\n",
            "[151]\ttrain-merror:0.011889\tvalidation-merror:0.030333\n",
            "[152]\ttrain-merror:0.011722\tvalidation-merror:0.030333\n",
            "[153]\ttrain-merror:0.011611\tvalidation-merror:0.030667\n",
            "[154]\ttrain-merror:0.0115\tvalidation-merror:0.0305\n",
            "[155]\ttrain-merror:0.011278\tvalidation-merror:0.0305\n",
            "[156]\ttrain-merror:0.011241\tvalidation-merror:0.030333\n",
            "[157]\ttrain-merror:0.011111\tvalidation-merror:0.0305\n",
            "[158]\ttrain-merror:0.010981\tvalidation-merror:0.030167\n",
            "[159]\ttrain-merror:0.010926\tvalidation-merror:0.030167\n",
            "[160]\ttrain-merror:0.010778\tvalidation-merror:0.030167\n",
            "[161]\ttrain-merror:0.010611\tvalidation-merror:0.029833\n",
            "[162]\ttrain-merror:0.010519\tvalidation-merror:0.029667\n",
            "[163]\ttrain-merror:0.010463\tvalidation-merror:0.03\n",
            "[164]\ttrain-merror:0.010389\tvalidation-merror:0.029833\n",
            "[165]\ttrain-merror:0.010315\tvalidation-merror:0.029833\n",
            "[166]\ttrain-merror:0.010241\tvalidation-merror:0.029833\n",
            "[167]\ttrain-merror:0.010056\tvalidation-merror:0.030167\n",
            "[168]\ttrain-merror:0.009981\tvalidation-merror:0.03\n",
            "[169]\ttrain-merror:0.00987\tvalidation-merror:0.03\n",
            "[170]\ttrain-merror:0.009759\tvalidation-merror:0.03\n",
            "[171]\ttrain-merror:0.009611\tvalidation-merror:0.03\n",
            "[172]\ttrain-merror:0.009519\tvalidation-merror:0.03\n",
            "[173]\ttrain-merror:0.009463\tvalidation-merror:0.03\n",
            "[174]\ttrain-merror:0.009333\tvalidation-merror:0.029833\n",
            "[175]\ttrain-merror:0.009278\tvalidation-merror:0.029833\n",
            "[176]\ttrain-merror:0.009167\tvalidation-merror:0.029667\n",
            "[177]\ttrain-merror:0.009056\tvalidation-merror:0.0295\n",
            "[178]\ttrain-merror:0.008963\tvalidation-merror:0.029667\n",
            "[179]\ttrain-merror:0.00887\tvalidation-merror:0.029667\n",
            "[180]\ttrain-merror:0.008815\tvalidation-merror:0.0295\n",
            "[181]\ttrain-merror:0.008796\tvalidation-merror:0.029167\n",
            "[182]\ttrain-merror:0.008704\tvalidation-merror:0.029\n",
            "[183]\ttrain-merror:0.008611\tvalidation-merror:0.029167\n",
            "[184]\ttrain-merror:0.008593\tvalidation-merror:0.029167\n",
            "[185]\ttrain-merror:0.008537\tvalidation-merror:0.029\n",
            "[186]\ttrain-merror:0.008407\tvalidation-merror:0.029167\n",
            "[187]\ttrain-merror:0.008315\tvalidation-merror:0.029\n",
            "[188]\ttrain-merror:0.008296\tvalidation-merror:0.029\n",
            "[189]\ttrain-merror:0.008185\tvalidation-merror:0.029\n",
            "[190]\ttrain-merror:0.008037\tvalidation-merror:0.029\n",
            "[191]\ttrain-merror:0.008019\tvalidation-merror:0.029\n",
            "[192]\ttrain-merror:0.007944\tvalidation-merror:0.029167\n",
            "[193]\ttrain-merror:0.00787\tvalidation-merror:0.029167\n",
            "[194]\ttrain-merror:0.007741\tvalidation-merror:0.0295\n",
            "[195]\ttrain-merror:0.007704\tvalidation-merror:0.029167\n",
            "[196]\ttrain-merror:0.007611\tvalidation-merror:0.029167\n",
            "[197]\ttrain-merror:0.007574\tvalidation-merror:0.029\n",
            "[198]\ttrain-merror:0.007556\tvalidation-merror:0.029\n",
            "[199]\ttrain-merror:0.007463\tvalidation-merror:0.029\n",
            "[200]\ttrain-merror:0.007444\tvalidation-merror:0.028833\n",
            "[201]\ttrain-merror:0.007389\tvalidation-merror:0.028833\n",
            "[202]\ttrain-merror:0.00737\tvalidation-merror:0.028833\n",
            "[203]\ttrain-merror:0.007315\tvalidation-merror:0.029\n",
            "[204]\ttrain-merror:0.007204\tvalidation-merror:0.028833\n",
            "[205]\ttrain-merror:0.007148\tvalidation-merror:0.029\n",
            "[206]\ttrain-merror:0.00713\tvalidation-merror:0.028833\n",
            "[207]\ttrain-merror:0.007019\tvalidation-merror:0.029\n",
            "[208]\ttrain-merror:0.006944\tvalidation-merror:0.028833\n",
            "[209]\ttrain-merror:0.006907\tvalidation-merror:0.028833\n",
            "[210]\ttrain-merror:0.00687\tvalidation-merror:0.028833\n",
            "[211]\ttrain-merror:0.006796\tvalidation-merror:0.028667\n",
            "[212]\ttrain-merror:0.006759\tvalidation-merror:0.028667\n",
            "[213]\ttrain-merror:0.006667\tvalidation-merror:0.028667\n",
            "[214]\ttrain-merror:0.006611\tvalidation-merror:0.028667\n",
            "[215]\ttrain-merror:0.006556\tvalidation-merror:0.028667\n",
            "[216]\ttrain-merror:0.006556\tvalidation-merror:0.028667\n",
            "[217]\ttrain-merror:0.006481\tvalidation-merror:0.028667\n",
            "[218]\ttrain-merror:0.006463\tvalidation-merror:0.028833\n",
            "[219]\ttrain-merror:0.00637\tvalidation-merror:0.028333\n",
            "[220]\ttrain-merror:0.006352\tvalidation-merror:0.028333\n",
            "[221]\ttrain-merror:0.00637\tvalidation-merror:0.028333\n",
            "[222]\ttrain-merror:0.006278\tvalidation-merror:0.028167\n",
            "[223]\ttrain-merror:0.006222\tvalidation-merror:0.028167\n",
            "[224]\ttrain-merror:0.006204\tvalidation-merror:0.028167\n",
            "[225]\ttrain-merror:0.00613\tvalidation-merror:0.028167\n",
            "[226]\ttrain-merror:0.006037\tvalidation-merror:0.028167\n",
            "[227]\ttrain-merror:0.005981\tvalidation-merror:0.028\n",
            "[228]\ttrain-merror:0.005981\tvalidation-merror:0.028\n",
            "[229]\ttrain-merror:0.005926\tvalidation-merror:0.028\n",
            "[230]\ttrain-merror:0.005889\tvalidation-merror:0.028\n",
            "[231]\ttrain-merror:0.005852\tvalidation-merror:0.028\n",
            "[232]\ttrain-merror:0.005796\tvalidation-merror:0.027833\n",
            "[233]\ttrain-merror:0.005667\tvalidation-merror:0.027833\n",
            "[234]\ttrain-merror:0.00563\tvalidation-merror:0.027667\n",
            "[235]\ttrain-merror:0.005574\tvalidation-merror:0.027667\n",
            "[236]\ttrain-merror:0.0055\tvalidation-merror:0.0275\n",
            "[237]\ttrain-merror:0.0055\tvalidation-merror:0.0275\n",
            "[238]\ttrain-merror:0.005537\tvalidation-merror:0.0275\n",
            "[239]\ttrain-merror:0.005444\tvalidation-merror:0.027333\n",
            "[240]\ttrain-merror:0.005463\tvalidation-merror:0.027333\n",
            "[241]\ttrain-merror:0.005426\tvalidation-merror:0.027333\n",
            "[242]\ttrain-merror:0.005352\tvalidation-merror:0.027333\n",
            "[243]\ttrain-merror:0.005333\tvalidation-merror:0.027167\n",
            "[244]\ttrain-merror:0.005259\tvalidation-merror:0.027333\n",
            "[245]\ttrain-merror:0.005185\tvalidation-merror:0.027333\n",
            "[246]\ttrain-merror:0.005241\tvalidation-merror:0.027333\n",
            "[247]\ttrain-merror:0.005204\tvalidation-merror:0.0275\n",
            "[248]\ttrain-merror:0.00513\tvalidation-merror:0.0275\n",
            "[249]\ttrain-merror:0.005074\tvalidation-merror:0.0275\n",
            "[250]\ttrain-merror:0.005037\tvalidation-merror:0.027167\n",
            "[251]\ttrain-merror:0.005037\tvalidation-merror:0.027333\n",
            "[252]\ttrain-merror:0.005037\tvalidation-merror:0.027333\n",
            "[253]\ttrain-merror:0.005\tvalidation-merror:0.027333\n",
            "[254]\ttrain-merror:0.004963\tvalidation-merror:0.027333\n",
            "[255]\ttrain-merror:0.004926\tvalidation-merror:0.027167\n",
            "[256]\ttrain-merror:0.004889\tvalidation-merror:0.027333\n",
            "[257]\ttrain-merror:0.004833\tvalidation-merror:0.027333\n",
            "[258]\ttrain-merror:0.004852\tvalidation-merror:0.027333\n",
            "[259]\ttrain-merror:0.004833\tvalidation-merror:0.027333\n",
            "[260]\ttrain-merror:0.004833\tvalidation-merror:0.027167\n",
            "[261]\ttrain-merror:0.004778\tvalidation-merror:0.027167\n",
            "[262]\ttrain-merror:0.004685\tvalidation-merror:0.027167\n",
            "[263]\ttrain-merror:0.004685\tvalidation-merror:0.027333\n",
            "[264]\ttrain-merror:0.00463\tvalidation-merror:0.027333\n",
            "[265]\ttrain-merror:0.004593\tvalidation-merror:0.027333\n",
            "[266]\ttrain-merror:0.004574\tvalidation-merror:0.027167\n",
            "[267]\ttrain-merror:0.004537\tvalidation-merror:0.027333\n",
            "[268]\ttrain-merror:0.004481\tvalidation-merror:0.027167\n",
            "[269]\ttrain-merror:0.004463\tvalidation-merror:0.027167\n",
            "[270]\ttrain-merror:0.004426\tvalidation-merror:0.027333\n",
            "[271]\ttrain-merror:0.004407\tvalidation-merror:0.027333\n",
            "[272]\ttrain-merror:0.004407\tvalidation-merror:0.027333\n",
            "[273]\ttrain-merror:0.004389\tvalidation-merror:0.027333\n",
            "[274]\ttrain-merror:0.004352\tvalidation-merror:0.027333\n",
            "[275]\ttrain-merror:0.004352\tvalidation-merror:0.027333\n",
            "[276]\ttrain-merror:0.004352\tvalidation-merror:0.027333\n",
            "[277]\ttrain-merror:0.004333\tvalidation-merror:0.027333\n",
            "[278]\ttrain-merror:0.004333\tvalidation-merror:0.027333\n",
            "[279]\ttrain-merror:0.004315\tvalidation-merror:0.027167\n",
            "[280]\ttrain-merror:0.004315\tvalidation-merror:0.027167\n",
            "[281]\ttrain-merror:0.004259\tvalidation-merror:0.027\n",
            "[282]\ttrain-merror:0.004241\tvalidation-merror:0.027\n",
            "[283]\ttrain-merror:0.004222\tvalidation-merror:0.026833\n",
            "[284]\ttrain-merror:0.004204\tvalidation-merror:0.026833\n",
            "[285]\ttrain-merror:0.004204\tvalidation-merror:0.026833\n",
            "[286]\ttrain-merror:0.004167\tvalidation-merror:0.026833\n",
            "[287]\ttrain-merror:0.00413\tvalidation-merror:0.026833\n",
            "[288]\ttrain-merror:0.004111\tvalidation-merror:0.026833\n",
            "[289]\ttrain-merror:0.004074\tvalidation-merror:0.026833\n",
            "[290]\ttrain-merror:0.004074\tvalidation-merror:0.026667\n",
            "[291]\ttrain-merror:0.004056\tvalidation-merror:0.026667\n",
            "[292]\ttrain-merror:0.004019\tvalidation-merror:0.026667\n",
            "[293]\ttrain-merror:0.003944\tvalidation-merror:0.026667\n",
            "[294]\ttrain-merror:0.003981\tvalidation-merror:0.026667\n",
            "[295]\ttrain-merror:0.003944\tvalidation-merror:0.026667\n",
            "[296]\ttrain-merror:0.003944\tvalidation-merror:0.0265\n",
            "[297]\ttrain-merror:0.003944\tvalidation-merror:0.0265\n",
            "[298]\ttrain-merror:0.003907\tvalidation-merror:0.026333\n",
            "[299]\ttrain-merror:0.003889\tvalidation-merror:0.026333\n",
            "[300]\ttrain-merror:0.003796\tvalidation-merror:0.026333\n",
            "[301]\ttrain-merror:0.003741\tvalidation-merror:0.026333\n",
            "[302]\ttrain-merror:0.003722\tvalidation-merror:0.0265\n",
            "[303]\ttrain-merror:0.003722\tvalidation-merror:0.0265\n",
            "[304]\ttrain-merror:0.003722\tvalidation-merror:0.0265\n",
            "[305]\ttrain-merror:0.003704\tvalidation-merror:0.0265\n",
            "[306]\ttrain-merror:0.003704\tvalidation-merror:0.0265\n",
            "[307]\ttrain-merror:0.003648\tvalidation-merror:0.0265\n",
            "[308]\ttrain-merror:0.003593\tvalidation-merror:0.0265\n",
            "[309]\ttrain-merror:0.003593\tvalidation-merror:0.0265\n",
            "[310]\ttrain-merror:0.003574\tvalidation-merror:0.0265\n",
            "[311]\ttrain-merror:0.003593\tvalidation-merror:0.0265\n",
            "[312]\ttrain-merror:0.003556\tvalidation-merror:0.0265\n",
            "[313]\ttrain-merror:0.003537\tvalidation-merror:0.0265\n",
            "[314]\ttrain-merror:0.003537\tvalidation-merror:0.0265\n",
            "[315]\ttrain-merror:0.003519\tvalidation-merror:0.0265\n",
            "[316]\ttrain-merror:0.0035\tvalidation-merror:0.026333\n",
            "[317]\ttrain-merror:0.0035\tvalidation-merror:0.026333\n",
            "[318]\ttrain-merror:0.003481\tvalidation-merror:0.026333\n",
            "[319]\ttrain-merror:0.003426\tvalidation-merror:0.026333\n",
            "[320]\ttrain-merror:0.003426\tvalidation-merror:0.0265\n",
            "[321]\ttrain-merror:0.003407\tvalidation-merror:0.0265\n",
            "[322]\ttrain-merror:0.003389\tvalidation-merror:0.0265\n",
            "[323]\ttrain-merror:0.003352\tvalidation-merror:0.0265\n",
            "[324]\ttrain-merror:0.003352\tvalidation-merror:0.0265\n",
            "[325]\ttrain-merror:0.003296\tvalidation-merror:0.026333\n",
            "[326]\ttrain-merror:0.003296\tvalidation-merror:0.0265\n",
            "[327]\ttrain-merror:0.003241\tvalidation-merror:0.026333\n",
            "[328]\ttrain-merror:0.003241\tvalidation-merror:0.026333\n",
            "[329]\ttrain-merror:0.003204\tvalidation-merror:0.026167\n",
            "[330]\ttrain-merror:0.003204\tvalidation-merror:0.026167\n",
            "[331]\ttrain-merror:0.003185\tvalidation-merror:0.026333\n",
            "[332]\ttrain-merror:0.00313\tvalidation-merror:0.026333\n",
            "[333]\ttrain-merror:0.003167\tvalidation-merror:0.026333\n",
            "[334]\ttrain-merror:0.003185\tvalidation-merror:0.026333\n",
            "[335]\ttrain-merror:0.003148\tvalidation-merror:0.026333\n",
            "[336]\ttrain-merror:0.003148\tvalidation-merror:0.026167\n",
            "[337]\ttrain-merror:0.003148\tvalidation-merror:0.026333\n",
            "[338]\ttrain-merror:0.00313\tvalidation-merror:0.026333\n",
            "[339]\ttrain-merror:0.003111\tvalidation-merror:0.026333\n",
            "[340]\ttrain-merror:0.003093\tvalidation-merror:0.026333\n",
            "[341]\ttrain-merror:0.003111\tvalidation-merror:0.026333\n",
            "[342]\ttrain-merror:0.003093\tvalidation-merror:0.026333\n",
            "[343]\ttrain-merror:0.003074\tvalidation-merror:0.026167\n",
            "[344]\ttrain-merror:0.003\tvalidation-merror:0.026167\n",
            "[345]\ttrain-merror:0.003\tvalidation-merror:0.026333\n",
            "[346]\ttrain-merror:0.002981\tvalidation-merror:0.026333\n",
            "[347]\ttrain-merror:0.003\tvalidation-merror:0.026333\n",
            "[348]\ttrain-merror:0.003\tvalidation-merror:0.026333\n",
            "[349]\ttrain-merror:0.002963\tvalidation-merror:0.026333\n",
            "[350]\ttrain-merror:0.002963\tvalidation-merror:0.026333\n",
            "[351]\ttrain-merror:0.002963\tvalidation-merror:0.026333\n",
            "[352]\ttrain-merror:0.002963\tvalidation-merror:0.026333\n",
            "[353]\ttrain-merror:0.002963\tvalidation-merror:0.026333\n",
            "[354]\ttrain-merror:0.002963\tvalidation-merror:0.026333\n",
            "[355]\ttrain-merror:0.002926\tvalidation-merror:0.026333\n",
            "[356]\ttrain-merror:0.002926\tvalidation-merror:0.026333\n",
            "[357]\ttrain-merror:0.002907\tvalidation-merror:0.026333\n",
            "[358]\ttrain-merror:0.002889\tvalidation-merror:0.026333\n",
            "[359]\ttrain-merror:0.002889\tvalidation-merror:0.026333\n",
            "[360]\ttrain-merror:0.002907\tvalidation-merror:0.026333\n",
            "[361]\ttrain-merror:0.002889\tvalidation-merror:0.026333\n",
            "[362]\ttrain-merror:0.002907\tvalidation-merror:0.026333\n",
            "[363]\ttrain-merror:0.002907\tvalidation-merror:0.026333\n",
            "[364]\ttrain-merror:0.00287\tvalidation-merror:0.026333\n",
            "[365]\ttrain-merror:0.002852\tvalidation-merror:0.026333\n",
            "[366]\ttrain-merror:0.002759\tvalidation-merror:0.026333\n",
            "[367]\ttrain-merror:0.002778\tvalidation-merror:0.026333\n",
            "[368]\ttrain-merror:0.002759\tvalidation-merror:0.026333\n",
            "[369]\ttrain-merror:0.002722\tvalidation-merror:0.026333\n",
            "[370]\ttrain-merror:0.002722\tvalidation-merror:0.026333\n",
            "[371]\ttrain-merror:0.002741\tvalidation-merror:0.026333\n",
            "[372]\ttrain-merror:0.002759\tvalidation-merror:0.026333\n",
            "[373]\ttrain-merror:0.002722\tvalidation-merror:0.026333\n",
            "[374]\ttrain-merror:0.002685\tvalidation-merror:0.026333\n",
            "[375]\ttrain-merror:0.002667\tvalidation-merror:0.026333\n",
            "[376]\ttrain-merror:0.002667\tvalidation-merror:0.026333\n",
            "[377]\ttrain-merror:0.002611\tvalidation-merror:0.026333\n",
            "[378]\ttrain-merror:0.00263\tvalidation-merror:0.026333\n",
            "[379]\ttrain-merror:0.002611\tvalidation-merror:0.026333\n",
            "Stopping. Best iteration:\n",
            "[329]\ttrain-merror:0.003204\tvalidation-merror:0.026167\n",
            "\n"
          ],
          "name": "stdout"
        }
      ]
    },
    {
      "cell_type": "markdown",
      "metadata": {
        "id": "Pwi2V6O6gbP3"
      },
      "source": [
        "## PREDICING THE VALUE ON TEST DATA"
      ]
    },
    {
      "cell_type": "code",
      "metadata": {
        "id": "VTBtK7oYd6Cd",
        "outputId": "ee8816fd-6356-4510-f644-396e85cd50e8",
        "colab": {
          "base_uri": "https://localhost:8080/"
        }
      },
      "source": [
        "d_test = xgb.DMatrix(data=x_test_std)\n",
        "y_pred = bst.predict(d_test)\n",
        "y_pred"
      ],
      "execution_count": 10,
      "outputs": [
        {
          "output_type": "execute_result",
          "data": {
            "text/plain": [
              "array([7., 2., 1., ..., 4., 5., 6.], dtype=float32)"
            ]
          },
          "metadata": {
            "tags": []
          },
          "execution_count": 10
        }
      ]
    },
    {
      "cell_type": "markdown",
      "metadata": {
        "id": "IMIWtTH3g0SP"
      },
      "source": [
        "## CALCULATING THE ACCURACY OF MODEL"
      ]
    },
    {
      "cell_type": "code",
      "metadata": {
        "id": "5hMzcghkg57D",
        "outputId": "c1846df9-adaa-4a54-ca24-7f8d20dcc07c",
        "colab": {
          "base_uri": "https://localhost:8080/"
        }
      },
      "source": [
        "from sklearn.metrics import accuracy_score\n",
        "print(np.round(accuracy_score(y_test, y_pred)*100, 2), '%')"
      ],
      "execution_count": 11,
      "outputs": [
        {
          "output_type": "stream",
          "text": [
            "97.07 %\n"
          ],
          "name": "stdout"
        }
      ]
    },
    {
      "cell_type": "markdown",
      "metadata": {
        "id": "gg7K77ETkG3h"
      },
      "source": [
        "## CREATING A CONFUSION MATRIX"
      ]
    },
    {
      "cell_type": "code",
      "metadata": {
        "id": "l53ZvZPlkN76",
        "outputId": "dc2b0af3-8c76-44f0-a8fd-741cc153b83b",
        "colab": {
          "base_uri": "https://localhost:8080/"
        }
      },
      "source": [
        "from sklearn.metrics import confusion_matrix\n",
        "confusion_matrix(y_test, y_pred)"
      ],
      "execution_count": 12,
      "outputs": [
        {
          "output_type": "execute_result",
          "data": {
            "text/plain": [
              "array([[ 969,    0,    1,    0,    0,    1,    2,    1,    5,    1],\n",
              "       [   0, 1114,    2,    3,    0,    5,    1,    0,   10,    0],\n",
              "       [   4,    0,  997,    7,    3,    0,    1,    5,   14,    1],\n",
              "       [   2,    0,    5,  982,    0,   11,    0,    1,    7,    2],\n",
              "       [   1,    0,    3,    1,  962,    0,    2,    0,    4,    9],\n",
              "       [   3,    0,    0,    5,    0,  871,    3,    1,    9,    0],\n",
              "       [  10,    2,    1,    0,    7,    7,  924,    0,    7,    0],\n",
              "       [   2,    3,   24,    5,    6,    2,    0,  961,    8,   17],\n",
              "       [   5,    1,    4,    0,    3,    3,    0,    1,  954,    3],\n",
              "       [   7,    2,    2,    6,   10,    3,    0,    0,    6,  973]])"
            ]
          },
          "metadata": {
            "tags": []
          },
          "execution_count": 12
        }
      ]
    },
    {
      "cell_type": "code",
      "metadata": {
        "id": "QhJS1B7a0u2Q"
      },
      "source": [
        ""
      ],
      "execution_count": null,
      "outputs": []
    }
  ]
}