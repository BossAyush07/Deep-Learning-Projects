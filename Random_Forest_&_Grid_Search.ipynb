{
  "nbformat": 4,
  "nbformat_minor": 0,
  "metadata": {
    "colab": {
      "name": "Random Forest & Grid Search.ipynb",
      "provenance": [],
      "authorship_tag": "ABX9TyN4LyeIVp/5GipPnFtKma+m",
      "include_colab_link": true
    },
    "kernelspec": {
      "name": "python3",
      "display_name": "Python 3"
    },
    "accelerator": "GPU"
  },
  "cells": [
    {
      "cell_type": "markdown",
      "metadata": {
        "id": "view-in-github",
        "colab_type": "text"
      },
      "source": [
        "<a href=\"https://colab.research.google.com/github/BossAyush07/Deep-Learning-Projects/blob/master/Random_Forest_%26_Grid_Search.ipynb\" target=\"_parent\"><img src=\"https://colab.research.google.com/assets/colab-badge.svg\" alt=\"Open In Colab\"/></a>"
      ]
    },
    {
      "cell_type": "markdown",
      "metadata": {
        "id": "rbJlT8E313Sf",
        "colab_type": "text"
      },
      "source": [
        "## Importing libraries"
      ]
    },
    {
      "cell_type": "code",
      "metadata": {
        "id": "Goi7pZKPznCB",
        "colab_type": "code",
        "colab": {
          "base_uri": "https://localhost:8080/",
          "height": 70
        },
        "outputId": "ddcb3523-0ae0-4f11-d647-de2fb31f16e2"
      },
      "source": [
        "import numpy as np\n",
        "import pandas as pd\n",
        "import matplotlib.pyplot as plt\n",
        "import seaborn as sns\n",
        "from sklearn.model_selection import train_test_split\n",
        "from sklearn.ensemble import RandomForestRegressor\n",
        "from sklearn.ensemble import RandomForestClassifier\n",
        "from sklearn.model_selection import GridSearchCV\n",
        "from sklearn.metrics import accuracy_score,r2_score"
      ],
      "execution_count": 2,
      "outputs": [
        {
          "output_type": "stream",
          "text": [
            "/usr/local/lib/python3.6/dist-packages/statsmodels/tools/_testing.py:19: FutureWarning: pandas.util.testing is deprecated. Use the functions in the public API at pandas.testing instead.\n",
            "  import pandas.util.testing as tm\n"
          ],
          "name": "stderr"
        }
      ]
    },
    {
      "cell_type": "markdown",
      "metadata": {
        "id": "nv1-9TBg2AQA",
        "colab_type": "text"
      },
      "source": [
        "## Loading Dataset\n"
      ]
    },
    {
      "cell_type": "code",
      "metadata": {
        "id": "b04CJT7zz4aO",
        "colab_type": "code",
        "colab": {}
      },
      "source": [
        "data = pd.read_json(\"amsterdam.json\")"
      ],
      "execution_count": 4,
      "outputs": []
    },
    {
      "cell_type": "code",
      "metadata": {
        "id": "Z2bNIugX1Q7N",
        "colab_type": "code",
        "colab": {
          "base_uri": "https://localhost:8080/",
          "height": 531
        },
        "outputId": "fc131c5e-2553-42dd-fde6-d4a931092de8"
      },
      "source": [
        "data.head(10)"
      ],
      "execution_count": 5,
      "outputs": [
        {
          "output_type": "execute_result",
          "data": {
            "text/html": [
              "<div>\n",
              "<style scoped>\n",
              "    .dataframe tbody tr th:only-of-type {\n",
              "        vertical-align: middle;\n",
              "    }\n",
              "\n",
              "    .dataframe tbody tr th {\n",
              "        vertical-align: top;\n",
              "    }\n",
              "\n",
              "    .dataframe thead th {\n",
              "        text-align: right;\n",
              "    }\n",
              "</style>\n",
              "<table border=\"1\" class=\"dataframe\">\n",
              "  <thead>\n",
              "    <tr style=\"text-align: right;\">\n",
              "      <th></th>\n",
              "      <th>host_listings_count</th>\n",
              "      <th>accommodates</th>\n",
              "      <th>bathrooms</th>\n",
              "      <th>bedrooms</th>\n",
              "      <th>guests_included</th>\n",
              "      <th>minimum_nights</th>\n",
              "      <th>number_of_reviews</th>\n",
              "      <th>calculated_host_listings_count</th>\n",
              "      <th>price</th>\n",
              "      <th>latitude</th>\n",
              "      <th>longitude</th>\n",
              "      <th>room_type</th>\n",
              "      <th>instant_bookable</th>\n",
              "    </tr>\n",
              "  </thead>\n",
              "  <tbody>\n",
              "    <tr>\n",
              "      <th>0</th>\n",
              "      <td>1.0</td>\n",
              "      <td>6</td>\n",
              "      <td>1.0</td>\n",
              "      <td>2.0</td>\n",
              "      <td>1</td>\n",
              "      <td>3</td>\n",
              "      <td>4</td>\n",
              "      <td>1</td>\n",
              "      <td>$145.00</td>\n",
              "      <td>52.361173</td>\n",
              "      <td>4.866755</td>\n",
              "      <td>Entire home/apt</td>\n",
              "      <td>f</td>\n",
              "    </tr>\n",
              "    <tr>\n",
              "      <th>1</th>\n",
              "      <td>1.0</td>\n",
              "      <td>2</td>\n",
              "      <td>1.0</td>\n",
              "      <td>1.0</td>\n",
              "      <td>1</td>\n",
              "      <td>2</td>\n",
              "      <td>17</td>\n",
              "      <td>1</td>\n",
              "      <td>$88.00</td>\n",
              "      <td>52.370237</td>\n",
              "      <td>4.859507</td>\n",
              "      <td>Entire home/apt</td>\n",
              "      <td>f</td>\n",
              "    </tr>\n",
              "    <tr>\n",
              "      <th>2</th>\n",
              "      <td>1.0</td>\n",
              "      <td>2</td>\n",
              "      <td>1.0</td>\n",
              "      <td>1.0</td>\n",
              "      <td>2</td>\n",
              "      <td>2</td>\n",
              "      <td>4</td>\n",
              "      <td>1</td>\n",
              "      <td>$130.00</td>\n",
              "      <td>52.362016</td>\n",
              "      <td>4.866872</td>\n",
              "      <td>Entire home/apt</td>\n",
              "      <td>f</td>\n",
              "    </tr>\n",
              "    <tr>\n",
              "      <th>3</th>\n",
              "      <td>2.0</td>\n",
              "      <td>4</td>\n",
              "      <td>1.0</td>\n",
              "      <td>2.0</td>\n",
              "      <td>2</td>\n",
              "      <td>4</td>\n",
              "      <td>2</td>\n",
              "      <td>2</td>\n",
              "      <td>$110.00</td>\n",
              "      <td>52.365826</td>\n",
              "      <td>4.858178</td>\n",
              "      <td>Entire home/apt</td>\n",
              "      <td>f</td>\n",
              "    </tr>\n",
              "    <tr>\n",
              "      <th>4</th>\n",
              "      <td>1.0</td>\n",
              "      <td>2</td>\n",
              "      <td>1.0</td>\n",
              "      <td>1.0</td>\n",
              "      <td>1</td>\n",
              "      <td>3</td>\n",
              "      <td>10</td>\n",
              "      <td>1</td>\n",
              "      <td>$115.00</td>\n",
              "      <td>52.364179</td>\n",
              "      <td>4.864885</td>\n",
              "      <td>Entire home/apt</td>\n",
              "      <td>f</td>\n",
              "    </tr>\n",
              "    <tr>\n",
              "      <th>5</th>\n",
              "      <td>1.0</td>\n",
              "      <td>1</td>\n",
              "      <td>1.0</td>\n",
              "      <td>1.0</td>\n",
              "      <td>1</td>\n",
              "      <td>1</td>\n",
              "      <td>11</td>\n",
              "      <td>1</td>\n",
              "      <td>$70.00</td>\n",
              "      <td>52.359753</td>\n",
              "      <td>4.866176</td>\n",
              "      <td>Private room</td>\n",
              "      <td>f</td>\n",
              "    </tr>\n",
              "    <tr>\n",
              "      <th>6</th>\n",
              "      <td>1.0</td>\n",
              "      <td>2</td>\n",
              "      <td>1.5</td>\n",
              "      <td>1.0</td>\n",
              "      <td>1</td>\n",
              "      <td>2</td>\n",
              "      <td>3</td>\n",
              "      <td>1</td>\n",
              "      <td>$120.00</td>\n",
              "      <td>52.367870</td>\n",
              "      <td>4.864129</td>\n",
              "      <td>Entire home/apt</td>\n",
              "      <td>f</td>\n",
              "    </tr>\n",
              "    <tr>\n",
              "      <th>7</th>\n",
              "      <td>1.0</td>\n",
              "      <td>2</td>\n",
              "      <td>1.0</td>\n",
              "      <td>1.0</td>\n",
              "      <td>1</td>\n",
              "      <td>1</td>\n",
              "      <td>33</td>\n",
              "      <td>1</td>\n",
              "      <td>$45.00</td>\n",
              "      <td>52.373410</td>\n",
              "      <td>4.865154</td>\n",
              "      <td>Private room</td>\n",
              "      <td>f</td>\n",
              "    </tr>\n",
              "    <tr>\n",
              "      <th>8</th>\n",
              "      <td>3.0</td>\n",
              "      <td>2</td>\n",
              "      <td>NaN</td>\n",
              "      <td>1.0</td>\n",
              "      <td>1</td>\n",
              "      <td>1</td>\n",
              "      <td>2</td>\n",
              "      <td>3</td>\n",
              "      <td>$45.00</td>\n",
              "      <td>52.373642</td>\n",
              "      <td>4.860513</td>\n",
              "      <td>Private room</td>\n",
              "      <td>f</td>\n",
              "    </tr>\n",
              "    <tr>\n",
              "      <th>9</th>\n",
              "      <td>1.0</td>\n",
              "      <td>4</td>\n",
              "      <td>1.0</td>\n",
              "      <td>2.0</td>\n",
              "      <td>4</td>\n",
              "      <td>2</td>\n",
              "      <td>13</td>\n",
              "      <td>1</td>\n",
              "      <td>$240.00</td>\n",
              "      <td>52.368691</td>\n",
              "      <td>4.873708</td>\n",
              "      <td>Entire home/apt</td>\n",
              "      <td>f</td>\n",
              "    </tr>\n",
              "  </tbody>\n",
              "</table>\n",
              "</div>"
            ],
            "text/plain": [
              "   host_listings_count  accommodates  ...        room_type  instant_bookable\n",
              "0                  1.0             6  ...  Entire home/apt                 f\n",
              "1                  1.0             2  ...  Entire home/apt                 f\n",
              "2                  1.0             2  ...  Entire home/apt                 f\n",
              "3                  2.0             4  ...  Entire home/apt                 f\n",
              "4                  1.0             2  ...  Entire home/apt                 f\n",
              "5                  1.0             1  ...     Private room                 f\n",
              "6                  1.0             2  ...  Entire home/apt                 f\n",
              "7                  1.0             2  ...     Private room                 f\n",
              "8                  3.0             2  ...     Private room                 f\n",
              "9                  1.0             4  ...  Entire home/apt                 f\n",
              "\n",
              "[10 rows x 13 columns]"
            ]
          },
          "metadata": {
            "tags": []
          },
          "execution_count": 5
        }
      ]
    },
    {
      "cell_type": "markdown",
      "metadata": {
        "id": "w4CsW-Na2Le4",
        "colab_type": "text"
      },
      "source": [
        "##Checking For null values"
      ]
    },
    {
      "cell_type": "code",
      "metadata": {
        "id": "9CdxMJz51WGu",
        "colab_type": "code",
        "colab": {
          "base_uri": "https://localhost:8080/",
          "height": 252
        },
        "outputId": "7eb8d87d-5de2-4b61-e8e1-41b08f62d97f"
      },
      "source": [
        "data.isnull().sum()"
      ],
      "execution_count": 6,
      "outputs": [
        {
          "output_type": "execute_result",
          "data": {
            "text/plain": [
              "host_listings_count                3\n",
              "accommodates                       0\n",
              "bathrooms                         18\n",
              "bedrooms                          12\n",
              "guests_included                    0\n",
              "minimum_nights                     0\n",
              "number_of_reviews                  0\n",
              "calculated_host_listings_count     0\n",
              "price                              0\n",
              "latitude                           0\n",
              "longitude                          0\n",
              "room_type                          0\n",
              "instant_bookable                   0\n",
              "dtype: int64"
            ]
          },
          "metadata": {
            "tags": []
          },
          "execution_count": 6
        }
      ]
    },
    {
      "cell_type": "markdown",
      "metadata": {
        "id": "8cGL6wS63u7R",
        "colab_type": "text"
      },
      "source": [
        "## Replacing Null values with median"
      ]
    },
    {
      "cell_type": "code",
      "metadata": {
        "id": "BWCVKvo72bgR",
        "colab_type": "code",
        "colab": {}
      },
      "source": [
        "data['bathrooms']=data['bathrooms'].fillna(data['bathrooms'].median())\n",
        "data['bedrooms']=data['bedrooms'].fillna(data['bedrooms'].median())\n",
        "data['host_listings_count']=data['host_listings_count'].fillna(data['host_listings_count'].median())\n"
      ],
      "execution_count": 7,
      "outputs": []
    },
    {
      "cell_type": "code",
      "metadata": {
        "id": "AWhfI58q4DbL",
        "colab_type": "code",
        "colab": {
          "base_uri": "https://localhost:8080/",
          "height": 353
        },
        "outputId": "b20fc487-6748-4aa9-832d-0094467781ec"
      },
      "source": [
        "data.info()"
      ],
      "execution_count": 8,
      "outputs": [
        {
          "output_type": "stream",
          "text": [
            "<class 'pandas.core.frame.DataFrame'>\n",
            "Int64Index: 15181 entries, 0 to 15180\n",
            "Data columns (total 13 columns):\n",
            " #   Column                          Non-Null Count  Dtype  \n",
            "---  ------                          --------------  -----  \n",
            " 0   host_listings_count             15181 non-null  float64\n",
            " 1   accommodates                    15181 non-null  int64  \n",
            " 2   bathrooms                       15181 non-null  float64\n",
            " 3   bedrooms                        15181 non-null  float64\n",
            " 4   guests_included                 15181 non-null  int64  \n",
            " 5   minimum_nights                  15181 non-null  int64  \n",
            " 6   number_of_reviews               15181 non-null  int64  \n",
            " 7   calculated_host_listings_count  15181 non-null  int64  \n",
            " 8   price                           15181 non-null  object \n",
            " 9   latitude                        15181 non-null  float64\n",
            " 10  longitude                       15181 non-null  float64\n",
            " 11  room_type                       15181 non-null  object \n",
            " 12  instant_bookable                15181 non-null  object \n",
            "dtypes: float64(5), int64(5), object(3)\n",
            "memory usage: 1.6+ MB\n"
          ],
          "name": "stdout"
        }
      ]
    },
    {
      "cell_type": "markdown",
      "metadata": {
        "id": "jWSrDM7O4O-2",
        "colab_type": "text"
      },
      "source": [
        "### now we have no null values in our data"
      ]
    },
    {
      "cell_type": "markdown",
      "metadata": {
        "id": "f6wPYf246pBL",
        "colab_type": "text"
      },
      "source": [
        "## Replacing the special character($) from target variable price and changing type to float\n"
      ]
    },
    {
      "cell_type": "code",
      "metadata": {
        "id": "9HJAAYvP4Mfg",
        "colab_type": "code",
        "colab": {
          "base_uri": "https://localhost:8080/",
          "height": 218
        },
        "outputId": "8320f801-57f3-4133-e909-a69c209ec537"
      },
      "source": [
        "data['price'] = data['price'].map(lambda x: x.lstrip('$').replace(',',''))\n",
        "data['price']"
      ],
      "execution_count": 9,
      "outputs": [
        {
          "output_type": "execute_result",
          "data": {
            "text/plain": [
              "0        145.00\n",
              "1         88.00\n",
              "2        130.00\n",
              "3        110.00\n",
              "4        115.00\n",
              "          ...  \n",
              "15176     80.00\n",
              "15177    125.00\n",
              "15178    435.00\n",
              "15179     80.00\n",
              "15180    200.00\n",
              "Name: price, Length: 15181, dtype: object"
            ]
          },
          "metadata": {
            "tags": []
          },
          "execution_count": 9
        }
      ]
    },
    {
      "cell_type": "code",
      "metadata": {
        "id": "m4LFSi1B7C_c",
        "colab_type": "code",
        "colab": {}
      },
      "source": [
        "data['price']=data['price'].astype('float')"
      ],
      "execution_count": 10,
      "outputs": []
    },
    {
      "cell_type": "markdown",
      "metadata": {
        "id": "R2QTIXwB7a1t",
        "colab_type": "text"
      },
      "source": [
        "## Checking the correlation between target variable and other variables"
      ]
    },
    {
      "cell_type": "code",
      "metadata": {
        "id": "EDJtu1KQ7Inu",
        "colab_type": "code",
        "colab": {
          "base_uri": "https://localhost:8080/",
          "height": 428
        },
        "outputId": "e0017a6a-6e5b-47da-d5c0-850c58bbfcba"
      },
      "source": [
        "corr=data.corr().round(2)\n",
        "sns.heatmap(corr,annot=True)"
      ],
      "execution_count": 11,
      "outputs": [
        {
          "output_type": "execute_result",
          "data": {
            "text/plain": [
              "<matplotlib.axes._subplots.AxesSubplot at 0x7f63de757a58>"
            ]
          },
          "metadata": {
            "tags": []
          },
          "execution_count": 11
        },
        {
          "output_type": "display_data",
          "data": {
            "image/png": "[encoded data removed]",
            "text/plain": [
              "<Figure size 432x288 with 2 Axes>"
            ]
          },
          "metadata": {
            "tags": [],
            "needs_background": "light"
          }
        }
      ]
    },
    {
      "cell_type": "code",
      "metadata": {
        "id": "fuUlfstM7ysG",
        "colab_type": "code",
        "colab": {
          "base_uri": "https://localhost:8080/",
          "height": 519
        },
        "outputId": "ad9f4983-2dc4-4ab1-8ae6-d822ccd401a7"
      },
      "source": [
        "sns.set(rc={'figure.figsize':(11.7,8.3)})\n",
        "sns.distplot(data['price'],bins=400)\n",
        "plt.show()"
      ],
      "execution_count": 12,
      "outputs": [
        {
          "output_type": "display_data",
          "data": {
            "image/png": "[encoded data removed]",
            "text/plain": [
              "<Figure size 842.4x597.6 with 1 Axes>"
            ]
          },
          "metadata": {
            "tags": []
          }
        }
      ]
    },
    {
      "cell_type": "markdown",
      "metadata": {
        "id": "SrHDJW13-sLV",
        "colab_type": "text"
      },
      "source": [
        "## Removing all the columns which have less than 0.1 correlation with our target variable"
      ]
    },
    {
      "cell_type": "code",
      "metadata": {
        "id": "QImYTk989eN8",
        "colab_type": "code",
        "colab": {
          "base_uri": "https://localhost:8080/",
          "height": 252
        },
        "outputId": "04e29c4f-c6de-446c-da36-df9c44325801"
      },
      "source": [
        "data=data.drop(['host_listings_count','minimum_nights','number_of_reviews','latitude','longitude'], axis=1)\n",
        "print(data)"
      ],
      "execution_count": 13,
      "outputs": [
        {
          "output_type": "stream",
          "text": [
            "       accommodates  bathrooms  ...        room_type  instant_bookable\n",
            "0                 6        1.0  ...  Entire home/apt                 f\n",
            "1                 2        1.0  ...  Entire home/apt                 f\n",
            "2                 2        1.0  ...  Entire home/apt                 f\n",
            "3                 4        1.0  ...  Entire home/apt                 f\n",
            "4                 2        1.0  ...  Entire home/apt                 f\n",
            "...             ...        ...  ...              ...               ...\n",
            "15176             4        1.5  ...     Private room                 t\n",
            "15177             2        1.0  ...  Entire home/apt                 t\n",
            "15178            16        2.0  ...  Entire home/apt                 t\n",
            "15179             4        1.5  ...  Entire home/apt                 f\n",
            "15180             6        2.0  ...  Entire home/apt                 f\n",
            "\n",
            "[15181 rows x 8 columns]\n"
          ],
          "name": "stdout"
        }
      ]
    },
    {
      "cell_type": "markdown",
      "metadata": {
        "id": "g9JlNc5CC2z-",
        "colab_type": "text"
      },
      "source": [
        "## Separating the categorical and numerical attributes"
      ]
    },
    {
      "cell_type": "code",
      "metadata": {
        "id": "qSvUhZwP_nLy",
        "colab_type": "code",
        "colab": {
          "base_uri": "https://localhost:8080/",
          "height": 487
        },
        "outputId": "b26e59e1-122c-4116-98c0-08fad683e10a"
      },
      "source": [
        "obj_col=data.select_dtypes(include=['object'])\n",
        "print(obj_col)\n",
        "rest_col=data.select_dtypes(exclude=['object'])\n",
        "target=data['price']\n",
        "rest_col=rest_col.drop(['price'],axis=1)\n",
        "print(rest_col)"
      ],
      "execution_count": 14,
      "outputs": [
        {
          "output_type": "stream",
          "text": [
            "             room_type instant_bookable\n",
            "0      Entire home/apt                f\n",
            "1      Entire home/apt                f\n",
            "2      Entire home/apt                f\n",
            "3      Entire home/apt                f\n",
            "4      Entire home/apt                f\n",
            "...                ...              ...\n",
            "15176     Private room                t\n",
            "15177  Entire home/apt                t\n",
            "15178  Entire home/apt                t\n",
            "15179  Entire home/apt                f\n",
            "15180  Entire home/apt                f\n",
            "\n",
            "[15181 rows x 2 columns]\n",
            "       accommodates  bathrooms  ...  guests_included  calculated_host_listings_count\n",
            "0                 6        1.0  ...                1                               1\n",
            "1                 2        1.0  ...                1                               1\n",
            "2                 2        1.0  ...                2                               1\n",
            "3                 4        1.0  ...                2                               2\n",
            "4                 2        1.0  ...                1                               1\n",
            "...             ...        ...  ...              ...                             ...\n",
            "15176             4        1.5  ...                2                               1\n",
            "15177             2        1.0  ...                2                               1\n",
            "15178            16        2.0  ...               10                               1\n",
            "15179             4        1.5  ...                2                               1\n",
            "15180             6        2.0  ...                1                               1\n",
            "\n",
            "[15181 rows x 5 columns]\n"
          ],
          "name": "stdout"
        }
      ]
    },
    {
      "cell_type": "markdown",
      "metadata": {
        "id": "E7RCuBpGDLOM",
        "colab_type": "text"
      },
      "source": [
        "## Encoding the categorical features"
      ]
    },
    {
      "cell_type": "code",
      "metadata": {
        "id": "3IGI6D1ADDH6",
        "colab_type": "code",
        "colab": {
          "base_uri": "https://localhost:8080/",
          "height": 402
        },
        "outputId": "98ad6a9d-b634-4fff-9359-9e79e72d06e2"
      },
      "source": [
        "obj_col_encoded=pd.get_dummies(obj_col,prefix_sep='_',drop_first=True)\n",
        "obj_col_encoded\n"
      ],
      "execution_count": 15,
      "outputs": [
        {
          "output_type": "execute_result",
          "data": {
            "text/html": [
              "<div>\n",
              "<style scoped>\n",
              "    .dataframe tbody tr th:only-of-type {\n",
              "        vertical-align: middle;\n",
              "    }\n",
              "\n",
              "    .dataframe tbody tr th {\n",
              "        vertical-align: top;\n",
              "    }\n",
              "\n",
              "    .dataframe thead th {\n",
              "        text-align: right;\n",
              "    }\n",
              "</style>\n",
              "<table border=\"1\" class=\"dataframe\">\n",
              "  <thead>\n",
              "    <tr style=\"text-align: right;\">\n",
              "      <th></th>\n",
              "      <th>room_type_Private room</th>\n",
              "      <th>room_type_Shared room</th>\n",
              "      <th>instant_bookable_t</th>\n",
              "    </tr>\n",
              "  </thead>\n",
              "  <tbody>\n",
              "    <tr>\n",
              "      <th>0</th>\n",
              "      <td>0</td>\n",
              "      <td>0</td>\n",
              "      <td>0</td>\n",
              "    </tr>\n",
              "    <tr>\n",
              "      <th>1</th>\n",
              "      <td>0</td>\n",
              "      <td>0</td>\n",
              "      <td>0</td>\n",
              "    </tr>\n",
              "    <tr>\n",
              "      <th>2</th>\n",
              "      <td>0</td>\n",
              "      <td>0</td>\n",
              "      <td>0</td>\n",
              "    </tr>\n",
              "    <tr>\n",
              "      <th>3</th>\n",
              "      <td>0</td>\n",
              "      <td>0</td>\n",
              "      <td>0</td>\n",
              "    </tr>\n",
              "    <tr>\n",
              "      <th>4</th>\n",
              "      <td>0</td>\n",
              "      <td>0</td>\n",
              "      <td>0</td>\n",
              "    </tr>\n",
              "    <tr>\n",
              "      <th>...</th>\n",
              "      <td>...</td>\n",
              "      <td>...</td>\n",
              "      <td>...</td>\n",
              "    </tr>\n",
              "    <tr>\n",
              "      <th>15176</th>\n",
              "      <td>1</td>\n",
              "      <td>0</td>\n",
              "      <td>1</td>\n",
              "    </tr>\n",
              "    <tr>\n",
              "      <th>15177</th>\n",
              "      <td>0</td>\n",
              "      <td>0</td>\n",
              "      <td>1</td>\n",
              "    </tr>\n",
              "    <tr>\n",
              "      <th>15178</th>\n",
              "      <td>0</td>\n",
              "      <td>0</td>\n",
              "      <td>1</td>\n",
              "    </tr>\n",
              "    <tr>\n",
              "      <th>15179</th>\n",
              "      <td>0</td>\n",
              "      <td>0</td>\n",
              "      <td>0</td>\n",
              "    </tr>\n",
              "    <tr>\n",
              "      <th>15180</th>\n",
              "      <td>0</td>\n",
              "      <td>0</td>\n",
              "      <td>0</td>\n",
              "    </tr>\n",
              "  </tbody>\n",
              "</table>\n",
              "<p>15181 rows × 3 columns</p>\n",
              "</div>"
            ],
            "text/plain": [
              "       room_type_Private room  room_type_Shared room  instant_bookable_t\n",
              "0                           0                      0                   0\n",
              "1                           0                      0                   0\n",
              "2                           0                      0                   0\n",
              "3                           0                      0                   0\n",
              "4                           0                      0                   0\n",
              "...                       ...                    ...                 ...\n",
              "15176                       1                      0                   1\n",
              "15177                       0                      0                   1\n",
              "15178                       0                      0                   1\n",
              "15179                       0                      0                   0\n",
              "15180                       0                      0                   0\n",
              "\n",
              "[15181 rows x 3 columns]"
            ]
          },
          "metadata": {
            "tags": []
          },
          "execution_count": 15
        }
      ]
    },
    {
      "cell_type": "markdown",
      "metadata": {
        "id": "X0dHj4ilDhs5",
        "colab_type": "text"
      },
      "source": [
        "##Creating the final dataset"
      ]
    },
    {
      "cell_type": "code",
      "metadata": {
        "id": "0C7HY7BlDV0_",
        "colab_type": "code",
        "colab": {
          "base_uri": "https://localhost:8080/",
          "height": 212
        },
        "outputId": "9226062b-f0fb-4280-ca4a-40f1752d5bc5"
      },
      "source": [
        "train_final=pd.concat([obj_col_encoded, rest_col], axis=1,sort=False)\n",
        "train_final.head()"
      ],
      "execution_count": 16,
      "outputs": [
        {
          "output_type": "execute_result",
          "data": {
            "text/html": [
              "<div>\n",
              "<style scoped>\n",
              "    .dataframe tbody tr th:only-of-type {\n",
              "        vertical-align: middle;\n",
              "    }\n",
              "\n",
              "    .dataframe tbody tr th {\n",
              "        vertical-align: top;\n",
              "    }\n",
              "\n",
              "    .dataframe thead th {\n",
              "        text-align: right;\n",
              "    }\n",
              "</style>\n",
              "<table border=\"1\" class=\"dataframe\">\n",
              "  <thead>\n",
              "    <tr style=\"text-align: right;\">\n",
              "      <th></th>\n",
              "      <th>room_type_Private room</th>\n",
              "      <th>room_type_Shared room</th>\n",
              "      <th>instant_bookable_t</th>\n",
              "      <th>accommodates</th>\n",
              "      <th>bathrooms</th>\n",
              "      <th>bedrooms</th>\n",
              "      <th>guests_included</th>\n",
              "      <th>calculated_host_listings_count</th>\n",
              "    </tr>\n",
              "  </thead>\n",
              "  <tbody>\n",
              "    <tr>\n",
              "      <th>0</th>\n",
              "      <td>0</td>\n",
              "      <td>0</td>\n",
              "      <td>0</td>\n",
              "      <td>6</td>\n",
              "      <td>1.0</td>\n",
              "      <td>2.0</td>\n",
              "      <td>1</td>\n",
              "      <td>1</td>\n",
              "    </tr>\n",
              "    <tr>\n",
              "      <th>1</th>\n",
              "      <td>0</td>\n",
              "      <td>0</td>\n",
              "      <td>0</td>\n",
              "      <td>2</td>\n",
              "      <td>1.0</td>\n",
              "      <td>1.0</td>\n",
              "      <td>1</td>\n",
              "      <td>1</td>\n",
              "    </tr>\n",
              "    <tr>\n",
              "      <th>2</th>\n",
              "      <td>0</td>\n",
              "      <td>0</td>\n",
              "      <td>0</td>\n",
              "      <td>2</td>\n",
              "      <td>1.0</td>\n",
              "      <td>1.0</td>\n",
              "      <td>2</td>\n",
              "      <td>1</td>\n",
              "    </tr>\n",
              "    <tr>\n",
              "      <th>3</th>\n",
              "      <td>0</td>\n",
              "      <td>0</td>\n",
              "      <td>0</td>\n",
              "      <td>4</td>\n",
              "      <td>1.0</td>\n",
              "      <td>2.0</td>\n",
              "      <td>2</td>\n",
              "      <td>2</td>\n",
              "    </tr>\n",
              "    <tr>\n",
              "      <th>4</th>\n",
              "      <td>0</td>\n",
              "      <td>0</td>\n",
              "      <td>0</td>\n",
              "      <td>2</td>\n",
              "      <td>1.0</td>\n",
              "      <td>1.0</td>\n",
              "      <td>1</td>\n",
              "      <td>1</td>\n",
              "    </tr>\n",
              "  </tbody>\n",
              "</table>\n",
              "</div>"
            ],
            "text/plain": [
              "   room_type_Private room  ...  calculated_host_listings_count\n",
              "0                       0  ...                               1\n",
              "1                       0  ...                               1\n",
              "2                       0  ...                               1\n",
              "3                       0  ...                               2\n",
              "4                       0  ...                               1\n",
              "\n",
              "[5 rows x 8 columns]"
            ]
          },
          "metadata": {
            "tags": []
          },
          "execution_count": 16
        }
      ]
    },
    {
      "cell_type": "markdown",
      "metadata": {
        "id": "l-7UvWEXDl6I",
        "colab_type": "text"
      },
      "source": [
        "Splitting into train and test "
      ]
    },
    {
      "cell_type": "code",
      "metadata": {
        "id": "NGIcj2KVDk5w",
        "colab_type": "code",
        "colab": {}
      },
      "source": [
        "x_train,x_test,y_train,y_test=train_test_split(train_final,target,test_size=0.2)"
      ],
      "execution_count": 17,
      "outputs": []
    },
    {
      "cell_type": "markdown",
      "metadata": {
        "id": "HykUWI25EiyZ",
        "colab_type": "text"
      },
      "source": [
        "##Applying Random Forest"
      ]
    },
    {
      "cell_type": "code",
      "metadata": {
        "id": "-fOiDuE7DtNy",
        "colab_type": "code",
        "colab": {}
      },
      "source": [
        "regressor = RandomForestRegressor(n_estimators=200, random_state=0)\n",
        "regressor.fit(x_train, y_train)\n",
        "y_pred = regressor.predict(x_test)"
      ],
      "execution_count": 18,
      "outputs": []
    },
    {
      "cell_type": "code",
      "metadata": {
        "id": "JMaAwChpEsDS",
        "colab_type": "code",
        "colab": {
          "base_uri": "https://localhost:8080/",
          "height": 67
        },
        "outputId": "a5d07194-83f0-4302-825a-c59685aa686d"
      },
      "source": [
        "from sklearn import metrics\n",
        "\n",
        "print('Mean Absolute Error:', metrics.mean_absolute_error(y_test, y_pred))\n",
        "print('Mean Squared Error:', metrics.mean_squared_error(y_test, y_pred))\n",
        "print('Root Mean Squared Error:', np.sqrt(metrics.mean_squared_error(y_test, y_pred)))"
      ],
      "execution_count": 19,
      "outputs": [
        {
          "output_type": "stream",
          "text": [
            "Mean Absolute Error: 38.07451169411729\n",
            "Mean Squared Error: 4551.393975297162\n",
            "Root Mean Squared Error: 67.46401985723325\n"
          ],
          "name": "stdout"
        }
      ]
    },
    {
      "cell_type": "markdown",
      "metadata": {
        "id": "exRS16sqK3cw",
        "colab_type": "text"
      },
      "source": [
        "## Performing Grid Search"
      ]
    },
    {
      "cell_type": "code",
      "metadata": {
        "id": "IQi1vRb3EtLF",
        "colab_type": "code",
        "colab": {}
      },
      "source": [
        "reg=RandomForestRegressor(random_state=0)\n"
      ],
      "execution_count": 20,
      "outputs": []
    },
    {
      "cell_type": "code",
      "metadata": {
        "id": "EaOd31dJFnxt",
        "colab_type": "code",
        "colab": {}
      },
      "source": [
        "param_grid = {\n",
        " 'n_estimators': [200],\n",
        " 'max_depth' : [5],\n",
        " 'criterion' :['mse', 'mae']\n",
        "}\n"
      ],
      "execution_count": 21,
      "outputs": []
    },
    {
      "cell_type": "code",
      "metadata": {
        "id": "0zo9e-RVwuLw",
        "colab_type": "code",
        "colab": {}
      },
      "source": [
        "reg_cv=GridSearchCV(estimator=reg, param_grid=param_grid)"
      ],
      "execution_count": 22,
      "outputs": []
    },
    {
      "cell_type": "code",
      "metadata": {
        "id": "yrJFOde1wuvX",
        "colab_type": "code",
        "colab": {
          "base_uri": "https://localhost:8080/",
          "height": 336
        },
        "outputId": "c2307f09-af3d-4c2d-fa91-00db4050116a"
      },
      "source": [
        "reg_cv.fit(x_train,y_train)"
      ],
      "execution_count": 23,
      "outputs": [
        {
          "output_type": "execute_result",
          "data": {
            "text/plain": [
              "GridSearchCV(cv=None, error_score=nan,\n",
              "             estimator=RandomForestRegressor(bootstrap=True, ccp_alpha=0.0,\n",
              "                                             criterion='mse', max_depth=None,\n",
              "                                             max_features='auto',\n",
              "                                             max_leaf_nodes=None,\n",
              "                                             max_samples=None,\n",
              "                                             min_impurity_decrease=0.0,\n",
              "                                             min_impurity_split=None,\n",
              "                                             min_samples_leaf=1,\n",
              "                                             min_samples_split=2,\n",
              "                                             min_weight_fraction_leaf=0.0,\n",
              "                                             n_estimators=100, n_jobs=None,\n",
              "                                             oob_score=False, random_state=0,\n",
              "                                             verbose=0, warm_start=False),\n",
              "             iid='deprecated', n_jobs=None,\n",
              "             param_grid={'criterion': ['mse', 'mae'], 'max_depth': [5],\n",
              "                         'n_estimators': [200]},\n",
              "             pre_dispatch='2*n_jobs', refit=True, return_train_score=False,\n",
              "             scoring=None, verbose=0)"
            ]
          },
          "metadata": {
            "tags": []
          },
          "execution_count": 23
        }
      ]
    },
    {
      "cell_type": "code",
      "metadata": {
        "id": "ihGdSK_vw20P",
        "colab_type": "code",
        "colab": {
          "base_uri": "https://localhost:8080/",
          "height": 34
        },
        "outputId": "9ec852ab-e3dc-405a-f10e-358748bbd156"
      },
      "source": [
        "print(reg_cv.best_params_)"
      ],
      "execution_count": 24,
      "outputs": [
        {
          "output_type": "stream",
          "text": [
            "{'criterion': 'mae', 'max_depth': 5, 'n_estimators': 200}\n"
          ],
          "name": "stdout"
        }
      ]
    },
    {
      "cell_type": "markdown",
      "metadata": {
        "id": "LxoJBNCexIln",
        "colab_type": "text"
      },
      "source": [
        "## fitting the model and selecting the parameters"
      ]
    },
    {
      "cell_type": "code",
      "metadata": {
        "id": "909yTjJlxHfa",
        "colab_type": "code",
        "colab": {}
      },
      "source": [
        "reg2=RandomForestRegressor(criterion='mse',max_depth=5,n_estimators=200,random_state=0)"
      ],
      "execution_count": 25,
      "outputs": []
    },
    {
      "cell_type": "code",
      "metadata": {
        "id": "rGVlKG4pxE8k",
        "colab_type": "code",
        "colab": {
          "base_uri": "https://localhost:8080/",
          "height": 134
        },
        "outputId": "40898bb9-1413-4a97-f86c-683047feb5a9"
      },
      "source": [
        "reg2.fit(x_train,y_train)"
      ],
      "execution_count": 26,
      "outputs": [
        {
          "output_type": "execute_result",
          "data": {
            "text/plain": [
              "RandomForestRegressor(bootstrap=True, ccp_alpha=0.0, criterion='mse',\n",
              "                      max_depth=5, max_features='auto', max_leaf_nodes=None,\n",
              "                      max_samples=None, min_impurity_decrease=0.0,\n",
              "                      min_impurity_split=None, min_samples_leaf=1,\n",
              "                      min_samples_split=2, min_weight_fraction_leaf=0.0,\n",
              "                      n_estimators=200, n_jobs=None, oob_score=False,\n",
              "                      random_state=0, verbose=0, warm_start=False)"
            ]
          },
          "metadata": {
            "tags": []
          },
          "execution_count": 26
        }
      ]
    },
    {
      "cell_type": "markdown",
      "metadata": {
        "id": "K1L6zoiExaSO",
        "colab_type": "text"
      },
      "source": [
        "##Prediction and evaluation of output"
      ]
    },
    {
      "cell_type": "code",
      "metadata": {
        "id": "1K0vxNk4w8Nu",
        "colab_type": "code",
        "colab": {}
      },
      "source": [
        "prediction=reg2.predict(x_test)"
      ],
      "execution_count": 27,
      "outputs": []
    },
    {
      "cell_type": "code",
      "metadata": {
        "id": "MBKhGXrDw8ES",
        "colab_type": "code",
        "colab": {
          "base_uri": "https://localhost:8080/",
          "height": 34
        },
        "outputId": "e0de2c29-2f1a-482e-f747-843a98304a33"
      },
      "source": [
        "r2=r2_score(y_test,prediction)\n",
        "print(r2)"
      ],
      "execution_count": 28,
      "outputs": [
        {
          "output_type": "stream",
          "text": [
            "0.33207562193093665\n"
          ],
          "name": "stdout"
        }
      ]
    },
    {
      "cell_type": "code",
      "metadata": {
        "id": "jONAAZG2wtw3",
        "colab_type": "code",
        "colab": {}
      },
      "source": [
        ""
      ],
      "execution_count": null,
      "outputs": []
    }
  ]
}